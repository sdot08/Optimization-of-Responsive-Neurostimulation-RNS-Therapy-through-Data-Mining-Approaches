{
 "cells": [
  {
   "cell_type": "code",
   "execution_count": 4,
   "metadata": {},
   "outputs": [
    {
     "name": "stdout",
     "output_type": "stream",
     "text": [
      "The autoreload extension is already loaded. To reload it, use:\n",
      "  %reload_ext autoreload\n"
     ]
    }
   ],
   "source": [
    "\n",
    "import pandas as pd\n",
    "import logging\n",
    "import numpy as np\n",
    "import sys\n",
    "import matplotlib.pyplot as plt\n",
    "import time\n",
    "import operator\n",
    "import os\n",
    "from sklearn.cross_validation import train_test_split\n",
    "from random import shuffle\n",
    "from sklearn.base import BaseEstimator, RegressorMixin\n",
    "from scipy.optimize import minimize\n",
    "from sklearn.model_selection import GridSearchCV, PredefinedSplit\n",
    "from sklearn.model_selection import ParameterGrid\n",
    "from sklearn.metrics import mean_squared_error, make_scorer\n",
    "from sklearn.model_selection import StratifiedKFold\n",
    "\n",
    "%matplotlib inline\n",
    "\n",
    "#PLOT CONFUSION MATRIX\n",
    "from sklearn.metrics import confusion_matrix\n",
    "import itertools\n",
    "import pickle\n",
    "#matrix inverse\n",
    "from numpy.linalg import inv\n",
    "import jj_basic_fn as JJ\n",
    "from hyperparams import Hyperparams as hp\n",
    "from patient import patient\n",
    "import prep\n",
    "import plot_funcs\n",
    "import modules\n",
    "#default size of the graph\n",
    "plt.rcParams['figure.figsize'] = (10.0, 8.0) \n",
    "\n",
    "%load_ext autoreload\n",
    "%autoreload 2\n",
    "\n",
    "pd.set_option('display.max_rows', 20)\n",
    "pd.set_option('display.max_columns', 20)\n",
    "pd.set_option('display.max_colwidth', -1)\n",
    "\n",
    "n_classifier = 7"
   ]
  },
  {
   "cell_type": "code",
   "execution_count": 10,
   "metadata": {},
   "outputs": [
    {
     "name": "stderr",
     "output_type": "stream",
     "text": [
      "/Users/hp/anaconda/lib/python3.5/site-packages/pandas/core/indexing.py:517: SettingWithCopyWarning: \n",
      "A value is trying to be set on a copy of a slice from a DataFrame.\n",
      "Try using .loc[row_indexer,col_indexer] = value instead\n",
      "\n",
      "See the caveats in the documentation: http://pandas.pydata.org/pandas-docs/stable/indexing.html#indexing-view-versus-copy\n",
      "  self.obj[item] = s\n",
      "/Users/hp/anaconda/lib/python3.5/site-packages/pandas/core/indexing.py:337: SettingWithCopyWarning: \n",
      "A value is trying to be set on a copy of a slice from a DataFrame.\n",
      "Try using .loc[row_indexer,col_indexer] = value instead\n",
      "\n",
      "See the caveats in the documentation: http://pandas.pydata.org/pandas-docs/stable/indexing.html#indexing-view-versus-copy\n",
      "  self.obj[key] = _infer_fill_value(value)\n"
     ]
    }
   ],
   "source": [
    "p231, p222_1, p222_2, p222_3 = modules.build_patients()\n",
    "pat_list = [p231, p222_1, p222_2, p222_3]\n",
    "for pat in pat_list:\n",
    "    JJ.save_object(pat, '../patients/' + pat.id +'.p')"
   ]
  },
  {
   "cell_type": "code",
   "execution_count": 11,
   "metadata": {
    "collapsed": true
   },
   "outputs": [],
   "source": [
    "col_rs = hp.col_rs\n",
    "col_es = hp.col_es\n",
    "col_le = hp.col_le\n",
    "\n",
    "p231, p222_1, p222_2, p222_3 = pickle.load(open(hp.prepath_pat + \"231.p\", \"rb\" )),pickle.load(open(hp.prepath_pat + \"222_1.p\", \"rb\" )), pickle.load(open(hp.prepath_pat + \"222_2.p\", \"rb\" )), pickle.load(open(hp.prepath_pat + \"222_3.p\", \"rb\" ))\n"
   ]
  },
  {
   "cell_type": "code",
   "execution_count": 12,
   "metadata": {
    "collapsed": true
   },
   "outputs": [],
   "source": [
    "def parameter_tuning(pat, X_train, X_test, y_train, y_test, classifier, C_range_num = 30, if_save = 0,\n",
    "                     nfold = 10, if_show = 1):\n",
    "    #defs is a dictionary to initiate classifier with the parameters that don't need to be tuned\n",
    "    defs = {}\n",
    "    defs['classifier'] = classifier\n",
    "    \n",
    "    num_instances, num_features = X_train.shape[0], X_train.shape[1]\n",
    "    n_fold = 10\n",
    "\n",
    "    skf = StratifiedKFold(n_splits=n_fold, shuffle=True, random_state=42)\n",
    "    CV = skf.split(np.zeros(len(y_train)), y_train)\n",
    "    \n",
    "\n",
    "    if classifier==1:\n",
    "        clf_name = 'Logistic Regression'\n",
    "        defs['class_weight'] = 'balanced'\n",
    "        defs['max_iter'] = 200\n",
    "        C_range = 10 ** np.random.uniform(-2, 1, size = C_range_num)\n",
    "        tuned_params = dict(penalty=['l1','l2'], C=C_range)\n",
    "    elif classifier == 2: \n",
    "        clf_name = 'SVM'\n",
    "        defs['class_weight'] = 'balanced'\n",
    "        kernel_list = ['rbf']    \n",
    "        gamma_list = [2**i*1/num_features for i in range(1)]\n",
    "        #degree_list = [2,3,4,5]\n",
    "        C_range = 10 ** np.random.uniform(-3, 1, size = C_range_num)\n",
    "        tuned_params = dict(kernel=kernel_list,gamma = gamma_list, C=C_range)\n",
    "\n",
    "    elif classifier==3:\n",
    "        clf_name = 'Gaussian Naive Bayes classifier'\n",
    "        prr = np.ones(2) * (1.0/2)\n",
    "        defs['priors'] = prr\n",
    "        clf_try = JJ.clf_list(defs)\n",
    "        clf_try.fit(X_train, y_train)\n",
    "        pat.estimator[classifier] = clf_try\n",
    "        return\n",
    "\n",
    "    elif classifier==4:\n",
    "        clf_name = 'Linear Discriminant Analysis'\n",
    "        prr = np.ones(2) * (1.0/2)\n",
    "        defs['solver'] = 'eigen'  # 'svd', 'lsqr', 'eigen'\n",
    "        defs['shrinkage'] = 'auto'\n",
    "        defs['priors'] = prr\n",
    "        clf_try = JJ.clf_list(defs)\n",
    "        clf_try.fit(X_train, y_train)\n",
    "        pat.estimator[classifier] = clf_try\n",
    "        return\n",
    "    elif classifier == 5:\n",
    "        clf_name = 'decision tree'\n",
    "        mss_list = [5,10,20,40,60]\n",
    "        criterion_list = ['entropy']\n",
    "        max_depth_list = [3,4,5,8,12,18]\n",
    "        clf_name = 'decision tree'\n",
    "        tuned_params = dict(criterion=criterion_list, min_samples_split=mss_list, max_depth = max_depth_list)\n",
    "    elif classifier == 6:\n",
    "        clf_name = 'random forest'\n",
    "        defs['n_estimators'] = 600\n",
    "        mss_list = [20,25,30,40]\n",
    "        criterion_list = ['entropy']\n",
    "        max_depth_list = [12,13,14,15,16]\n",
    "        max_features_list = ['auto']\n",
    "        tuned_params = dict(criterion=criterion_list, min_samples_split=mss_list, max_depth = max_depth_list, max_features = max_features_list)\n",
    "    elif classifier == 7:\n",
    "        clf_name = 'gradient boosting'\n",
    "        defs['n_estimators'] = 2000\n",
    "        max_depth_list, subsample_list, learning_rate_list, min_samples_leaf_list = [1,2,3], [0.1,0.15,0.2, 0.3, 0.4], [0.02, 0.01,0.005], [10,20,30] \n",
    "        #params = {'n_estimators': 1200, 'max_depth': 3, 'subsample': 0.5,\n",
    "        #  'learning_rate': 0.01, 'min_samples_leaf': 10, 'random_state': 3}\n",
    "        tuned_params = dict(max_depth=max_depth_list, subsample = subsample_list,learning_rate = learning_rate_list, min_samples_leaf= min_samples_leaf_list)\n",
    "    \n",
    "        \n",
    "    clf_try = JJ.clf_list(defs)\n",
    "    \n",
    "    clf_grid = GridSearchCV(clf_try,\n",
    "                            param_grid=tuned_params,\n",
    "                            cv=CV,\n",
    "                            scoring = 'roc_auc',\n",
    "                            verbose=1,\n",
    "                           return_train_score = True)\n",
    "    clf_grid.fit(X_train, y_train)\n",
    "    print('Best score for validations set: {}'.format(clf_grid.best_score_))\n",
    "    print('Best parameters: {}'.format(clf_grid.best_params_))\n",
    "\n",
    "    clf_best = clf_grid.best_estimator_\n",
    "\n",
    "    y_pred = clf_best.predict(X_test)\n",
    "    df = pd.DataFrame(clf_grid.cv_results_)\n",
    "    if if_show:\n",
    "        JJ.show_result(y_pred, y_test, df, clf_name, if_save = if_save)\n",
    "    \n",
    "    if if_save:\n",
    "        pat.result[classifier] = df\n",
    "        pat.estimator[classifier] = clf_best\n",
    "        pat.score[classifier] = clf_grid.best_score_\n",
    "        pat.params[classifier] = clf_grid.best_params_\n",
    "\n"
   ]
  },
  {
   "cell_type": "code",
   "execution_count": 16,
   "metadata": {
    "scrolled": false
   },
   "outputs": [
    {
     "name": "stdout",
     "output_type": "stream",
     "text": [
      "Total outliers removed: 30\n",
      "Fitting 10 folds for each of 100 candidates, totalling 1000 fits\n"
     ]
    },
    {
     "name": "stderr",
     "output_type": "stream",
     "text": [
      "[Parallel(n_jobs=1)]: Done 1000 out of 1000 | elapsed:   25.4s finished\n"
     ]
    },
    {
     "name": "stdout",
     "output_type": "stream",
     "text": [
      "Best score for validations set: 0.8342363657304642\n",
      "Best parameters: {'gamma': 0.03571428571428571, 'kernel': 'rbf', 'C': 1.9794073351244845}\n",
      "Confusion matrix, without normalization\n"
     ]
    },
    {
     "data": {
      "text/html": [
       "<div>\n",
       "<style>\n",
       "    .dataframe thead tr:only-child th {\n",
       "        text-align: right;\n",
       "    }\n",
       "\n",
       "    .dataframe thead th {\n",
       "        text-align: left;\n",
       "    }\n",
       "\n",
       "    .dataframe tbody tr th {\n",
       "        vertical-align: top;\n",
       "    }\n",
       "</style>\n",
       "<table border=\"1\" class=\"dataframe\">\n",
       "  <thead>\n",
       "    <tr style=\"text-align: right;\">\n",
       "      <th></th>\n",
       "      <th>params</th>\n",
       "      <th>mean_test_score</th>\n",
       "    </tr>\n",
       "  </thead>\n",
       "  <tbody>\n",
       "    <tr>\n",
       "      <th>58</th>\n",
       "      <td>{'gamma': 0.03571428571428571, 'kernel': 'rbf', 'C': 1.9794073351244845}</td>\n",
       "      <td>0.834236</td>\n",
       "    </tr>\n",
       "    <tr>\n",
       "      <th>48</th>\n",
       "      <td>{'gamma': 0.03571428571428571, 'kernel': 'rbf', 'C': 2.001540511795063}</td>\n",
       "      <td>0.833801</td>\n",
       "    </tr>\n",
       "    <tr>\n",
       "      <th>8</th>\n",
       "      <td>{'gamma': 0.03571428571428571, 'kernel': 'rbf', 'C': 1.9533076490147354}</td>\n",
       "      <td>0.833692</td>\n",
       "    </tr>\n",
       "    <tr>\n",
       "      <th>28</th>\n",
       "      <td>{'gamma': 0.03571428571428571, 'kernel': 'rbf', 'C': 1.733417137625216}</td>\n",
       "      <td>0.833574</td>\n",
       "    </tr>\n",
       "    <tr>\n",
       "      <th>81</th>\n",
       "      <td>{'gamma': 0.03571428571428571, 'kernel': 'rbf', 'C': 3.2290991628301535}</td>\n",
       "      <td>0.833574</td>\n",
       "    </tr>\n",
       "    <tr>\n",
       "      <th>57</th>\n",
       "      <td>{'gamma': 0.03571428571428571, 'kernel': 'rbf', 'C': 3.1527249912351505}</td>\n",
       "      <td>0.833457</td>\n",
       "    </tr>\n",
       "    <tr>\n",
       "      <th>25</th>\n",
       "      <td>{'gamma': 0.03571428571428571, 'kernel': 'rbf', 'C': 1.9175820664427494}</td>\n",
       "      <td>0.833357</td>\n",
       "    </tr>\n",
       "    <tr>\n",
       "      <th>74</th>\n",
       "      <td>{'gamma': 0.03571428571428571, 'kernel': 'rbf', 'C': 6.280482463786403}</td>\n",
       "      <td>0.832837</td>\n",
       "    </tr>\n",
       "    <tr>\n",
       "      <th>36</th>\n",
       "      <td>{'gamma': 0.03571428571428571, 'kernel': 'rbf', 'C': 2.799594461577736}</td>\n",
       "      <td>0.832704</td>\n",
       "    </tr>\n",
       "    <tr>\n",
       "      <th>40</th>\n",
       "      <td>{'gamma': 0.03571428571428571, 'kernel': 'rbf', 'C': 2.7989625922413346}</td>\n",
       "      <td>0.832704</td>\n",
       "    </tr>\n",
       "    <tr>\n",
       "      <th>...</th>\n",
       "      <td>...</td>\n",
       "      <td>...</td>\n",
       "    </tr>\n",
       "    <tr>\n",
       "      <th>1</th>\n",
       "      <td>{'gamma': 0.03571428571428571, 'kernel': 'rbf', 'C': 0.003287423887319074}</td>\n",
       "      <td>0.775040</td>\n",
       "    </tr>\n",
       "    <tr>\n",
       "      <th>53</th>\n",
       "      <td>{'gamma': 0.03571428571428571, 'kernel': 'rbf', 'C': 0.009058081801593886}</td>\n",
       "      <td>0.775040</td>\n",
       "    </tr>\n",
       "    <tr>\n",
       "      <th>55</th>\n",
       "      <td>{'gamma': 0.03571428571428571, 'kernel': 'rbf', 'C': 0.009898954579641406}</td>\n",
       "      <td>0.775040</td>\n",
       "    </tr>\n",
       "    <tr>\n",
       "      <th>59</th>\n",
       "      <td>{'gamma': 0.03571428571428571, 'kernel': 'rbf', 'C': 0.013158586949051337}</td>\n",
       "      <td>0.775040</td>\n",
       "    </tr>\n",
       "    <tr>\n",
       "      <th>61</th>\n",
       "      <td>{'gamma': 0.03571428571428571, 'kernel': 'rbf', 'C': 0.006807550631529753}</td>\n",
       "      <td>0.775040</td>\n",
       "    </tr>\n",
       "    <tr>\n",
       "      <th>63</th>\n",
       "      <td>{'gamma': 0.03571428571428571, 'kernel': 'rbf', 'C': 0.009310692167787467}</td>\n",
       "      <td>0.775040</td>\n",
       "    </tr>\n",
       "    <tr>\n",
       "      <th>99</th>\n",
       "      <td>{'gamma': 0.03571428571428571, 'kernel': 'rbf', 'C': 0.0026118819313164154}</td>\n",
       "      <td>0.775040</td>\n",
       "    </tr>\n",
       "    <tr>\n",
       "      <th>87</th>\n",
       "      <td>{'gamma': 0.03571428571428571, 'kernel': 'rbf', 'C': 0.026944212224243095}</td>\n",
       "      <td>0.774951</td>\n",
       "    </tr>\n",
       "    <tr>\n",
       "      <th>7</th>\n",
       "      <td>{'gamma': 0.03571428571428571, 'kernel': 'rbf', 'C': 0.02578752948184898}</td>\n",
       "      <td>0.774941</td>\n",
       "    </tr>\n",
       "    <tr>\n",
       "      <th>80</th>\n",
       "      <td>{'gamma': 0.03571428571428571, 'kernel': 'rbf', 'C': 0.024879487414941802}</td>\n",
       "      <td>0.774837</td>\n",
       "    </tr>\n",
       "  </tbody>\n",
       "</table>\n",
       "<p>100 rows × 2 columns</p>\n",
       "</div>"
      ],
      "text/plain": [
       "                                                                         params  \\\n",
       "58  {'gamma': 0.03571428571428571, 'kernel': 'rbf', 'C': 1.9794073351244845}      \n",
       "48  {'gamma': 0.03571428571428571, 'kernel': 'rbf', 'C': 2.001540511795063}       \n",
       "8   {'gamma': 0.03571428571428571, 'kernel': 'rbf', 'C': 1.9533076490147354}      \n",
       "28  {'gamma': 0.03571428571428571, 'kernel': 'rbf', 'C': 1.733417137625216}       \n",
       "81  {'gamma': 0.03571428571428571, 'kernel': 'rbf', 'C': 3.2290991628301535}      \n",
       "57  {'gamma': 0.03571428571428571, 'kernel': 'rbf', 'C': 3.1527249912351505}      \n",
       "25  {'gamma': 0.03571428571428571, 'kernel': 'rbf', 'C': 1.9175820664427494}      \n",
       "74  {'gamma': 0.03571428571428571, 'kernel': 'rbf', 'C': 6.280482463786403}       \n",
       "36  {'gamma': 0.03571428571428571, 'kernel': 'rbf', 'C': 2.799594461577736}       \n",
       "40  {'gamma': 0.03571428571428571, 'kernel': 'rbf', 'C': 2.7989625922413346}      \n",
       "..                                                                       ...      \n",
       "1   {'gamma': 0.03571428571428571, 'kernel': 'rbf', 'C': 0.003287423887319074}    \n",
       "53  {'gamma': 0.03571428571428571, 'kernel': 'rbf', 'C': 0.009058081801593886}    \n",
       "55  {'gamma': 0.03571428571428571, 'kernel': 'rbf', 'C': 0.009898954579641406}    \n",
       "59  {'gamma': 0.03571428571428571, 'kernel': 'rbf', 'C': 0.013158586949051337}    \n",
       "61  {'gamma': 0.03571428571428571, 'kernel': 'rbf', 'C': 0.006807550631529753}    \n",
       "63  {'gamma': 0.03571428571428571, 'kernel': 'rbf', 'C': 0.009310692167787467}    \n",
       "99  {'gamma': 0.03571428571428571, 'kernel': 'rbf', 'C': 0.0026118819313164154}   \n",
       "87  {'gamma': 0.03571428571428571, 'kernel': 'rbf', 'C': 0.026944212224243095}    \n",
       "7   {'gamma': 0.03571428571428571, 'kernel': 'rbf', 'C': 0.02578752948184898}     \n",
       "80  {'gamma': 0.03571428571428571, 'kernel': 'rbf', 'C': 0.024879487414941802}    \n",
       "\n",
       "    mean_test_score  \n",
       "58  0.834236         \n",
       "48  0.833801         \n",
       "8   0.833692         \n",
       "28  0.833574         \n",
       "81  0.833574         \n",
       "57  0.833457         \n",
       "25  0.833357         \n",
       "74  0.832837         \n",
       "36  0.832704         \n",
       "40  0.832704         \n",
       "..       ...         \n",
       "1   0.775040         \n",
       "53  0.775040         \n",
       "55  0.775040         \n",
       "59  0.775040         \n",
       "61  0.775040         \n",
       "63  0.775040         \n",
       "99  0.775040         \n",
       "87  0.774951         \n",
       "7   0.774941         \n",
       "80  0.774837         \n",
       "\n",
       "[100 rows x 2 columns]"
      ]
     },
     "metadata": {},
     "output_type": "display_data"
    },
    {
     "data": {
      "image/png": "[encoded data removed]",
      "text/plain": [
       "<matplotlib.figure.Figure at 0x1a16b54e80>"
      ]
     },
     "metadata": {},
     "output_type": "display_data"
    }
   ],
   "source": [
    "X_train, X_test, y_train, y_test = modules.get_ml_data(p231)\n",
    "parameter_tuning(p231,X_train, X_test, y_train, y_test, 2, C_range_num = 100, \n",
    "                     nfold = 10, if_save = 1, if_show = 1)"
   ]
  },
  {
   "cell_type": "code",
   "execution_count": 17,
   "metadata": {
    "collapsed": true
   },
   "outputs": [],
   "source": [
    "def parameter_tuning_all(pat, C_range_num, if_scaler = 1, if_remove_icd = 1, if_save = 1, if_show = 0):\n",
    "    X_train, X_test, y_train, y_test = modules.get_ml_data(pat, if_scaler = if_scaler, if_remove_icd = if_remove_icd)\n",
    "    for classifier_int in range(1,hp.num_classifier + 1):\n",
    "        parameter_tuning(pat, X_train, X_test, y_train, y_test, C_range_num = C_range_num, classifier = classifier_int, if_save = if_save, if_show = if_show)\n",
    "    if if_save:\n",
    "        JJ.save_object(pat, hp.prepath_pat + pat.id +'_trained.p')"
   ]
  },
  {
   "cell_type": "code",
   "execution_count": 18,
   "metadata": {},
   "outputs": [
    {
     "name": "stdout",
     "output_type": "stream",
     "text": [
      "Total outliers removed: 30\n",
      "Fitting 10 folds for each of 200 candidates, totalling 2000 fits\n"
     ]
    },
    {
     "name": "stderr",
     "output_type": "stream",
     "text": [
      "[Parallel(n_jobs=1)]: Done 2000 out of 2000 | elapsed:   11.7s finished\n"
     ]
    },
    {
     "name": "stdout",
     "output_type": "stream",
     "text": [
      "Best score for validations set: 0.8321200534423834\n",
      "Best parameters: {'penalty': 'l1', 'C': 0.5341911956020459}\n",
      "Fitting 10 folds for each of 100 candidates, totalling 1000 fits\n"
     ]
    },
    {
     "name": "stderr",
     "output_type": "stream",
     "text": [
      "[Parallel(n_jobs=1)]: Done 1000 out of 1000 | elapsed:   25.6s finished\n"
     ]
    },
    {
     "name": "stdout",
     "output_type": "stream",
     "text": [
      "Best score for validations set: 0.8342102686503416\n",
      "Best parameters: {'gamma': 0.03571428571428571, 'kernel': 'rbf', 'C': 3.0427084607499255}\n",
      "Fitting 10 folds for each of 30 candidates, totalling 300 fits\n"
     ]
    },
    {
     "name": "stderr",
     "output_type": "stream",
     "text": [
      "[Parallel(n_jobs=1)]: Done 300 out of 300 | elapsed:    3.3s finished\n"
     ]
    },
    {
     "name": "stdout",
     "output_type": "stream",
     "text": [
      "Best score for validations set: 0.790084001978254\n",
      "Best parameters: {'criterion': 'entropy', 'min_samples_split': 60, 'max_depth': 5}\n",
      "Fitting 10 folds for each of 20 candidates, totalling 200 fits\n"
     ]
    },
    {
     "name": "stderr",
     "output_type": "stream",
     "text": [
      "[Parallel(n_jobs=1)]: Done 200 out of 200 | elapsed:  4.7min finished\n"
     ]
    },
    {
     "name": "stdout",
     "output_type": "stream",
     "text": [
      "Best score for validations set: 0.8385158845959154\n",
      "Best parameters: {'criterion': 'entropy', 'max_features': 'auto', 'min_samples_split': 25, 'max_depth': 13}\n",
      "Fitting 10 folds for each of 135 candidates, totalling 1350 fits\n"
     ]
    },
    {
     "name": "stderr",
     "output_type": "stream",
     "text": [
      "[Parallel(n_jobs=1)]: Done 1350 out of 1350 | elapsed: 26.9min finished\n"
     ]
    },
    {
     "name": "stdout",
     "output_type": "stream",
     "text": [
      "Best score for validations set: 0.8619424194992759\n",
      "Best parameters: {'min_samples_leaf': 20, 'subsample': 0.4, 'max_depth': 3, 'learning_rate': 0.01}\n"
     ]
    }
   ],
   "source": [
    "parameter_tuning_all(p231, C_range_num = 100, if_scaler = hp.if_scaler, if_remove_icd = hp.if_remove_icd, if_save = 1)"
   ]
  },
  {
   "cell_type": "code",
   "execution_count": 39,
   "metadata": {},
   "outputs": [
    {
     "name": "stdout",
     "output_type": "stream",
     "text": [
      "0.825\n"
     ]
    }
   ],
   "source": [
    "\n",
    "X_train, X_test, y_train, y_test = JJ.get_ml_data(data, '231', if_scaler = 1, if_remove_icd = 1)\n",
    "#parameter_tuning(X_train, X_test, y_train, y_test, classifier = 1, C_range_num = 100, if_save = 1)\n",
    "JJ.ensemble_model(X_train, y_train, X_test, y_test, patid = '231', if_save = 0)"
   ]
  },
  {
   "cell_type": "code",
   "execution_count": 97,
   "metadata": {},
   "outputs": [
    {
     "data": {
      "text/plain": [
       "1"
      ]
     },
     "execution_count": 97,
     "metadata": {},
     "output_type": "execute_result"
    }
   ],
   "source": [
    "1"
   ]
  },
  {
   "cell_type": "code",
   "execution_count": null,
   "metadata": {
    "collapsed": true
   },
   "outputs": [],
   "source": []
  }
 ],
 "metadata": {
  "kernelspec": {
   "display_name": "Python [default]",
   "language": "python",
   "name": "python3"
  },
  "language_info": {
   "codemirror_mode": {
    "name": "ipython",
    "version": 3
   },
   "file_extension": ".py",
   "mimetype": "text/x-python",
   "name": "python",
   "nbconvert_exporter": "python",
   "pygments_lexer": "ipython3",
   "version": "3.5.3"
  }
 },
 "nbformat": 4,
 "nbformat_minor": 2
}
