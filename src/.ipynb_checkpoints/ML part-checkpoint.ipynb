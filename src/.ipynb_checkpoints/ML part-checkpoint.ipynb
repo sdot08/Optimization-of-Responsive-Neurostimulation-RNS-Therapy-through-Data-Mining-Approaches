{
 "cells": [
  {
   "cell_type": "code",
   "execution_count": 1,
   "metadata": {},
   "outputs": [
    {
     "name": "stderr",
     "output_type": "stream",
     "text": [
      "/Users/hp/anaconda/envs/python3/lib/python3.5/site-packages/sklearn/cross_validation.py:41: DeprecationWarning: This module was deprecated in version 0.18 in favor of the model_selection module into which all the refactored classes and functions are moved. Also note that the interface of the new CV iterators are different from that of this module. This module will be removed in 0.20.\n",
      "  \"This module will be removed in 0.20.\", DeprecationWarning)\n"
     ]
    }
   ],
   "source": [
    "\n",
    "import pandas as pd\n",
    "import logging\n",
    "import numpy as np\n",
    "import sys\n",
    "import matplotlib.pyplot as plt\n",
    "import time\n",
    "import operator\n",
    "import os\n",
    "from sklearn.cross_validation import train_test_split\n",
    "from random import shuffle\n",
    "from sklearn.base import BaseEstimator, RegressorMixin\n",
    "from scipy.optimize import minimize\n",
    "from sklearn.model_selection import GridSearchCV, PredefinedSplit\n",
    "from sklearn.model_selection import ParameterGrid\n",
    "from sklearn.metrics import mean_squared_error, make_scorer\n",
    "from sklearn.model_selection import StratifiedKFold\n",
    "\n",
    "%matplotlib inline\n",
    "\n",
    "#PLOT CONFUSION MATRIX\n",
    "from sklearn.metrics import confusion_matrix\n",
    "import itertools\n",
    "import pickle\n",
    "#matrix inverse\n",
    "from numpy.linalg import inv\n",
    "import jj_basic_fn as JJ\n",
    "from hyperparams import Hyperparams as hp\n",
    "from patient import patient\n",
    "import prep\n",
    "import plot_funcs\n",
    "import modules\n",
    "#default size of the graph\n",
    "plt.rcParams['figure.figsize'] = (10.0, 8.0) \n",
    "\n",
    "%load_ext autoreload\n",
    "%autoreload 2\n",
    "\n",
    "pd.set_option('display.max_rows', 20)\n",
    "pd.set_option('display.max_columns', 20)\n",
    "pd.set_option('display.max_colwidth', -1)\n",
    "\n",
    "n_classifier = 7"
   ]
  },
  {
   "cell_type": "code",
   "execution_count": 12,
   "metadata": {},
   "outputs": [
    {
     "name": "stderr",
     "output_type": "stream",
     "text": [
      "/Users/hp/anaconda/envs/python3/lib/python3.5/site-packages/pandas/core/indexing.py:543: SettingWithCopyWarning: \n",
      "A value is trying to be set on a copy of a slice from a DataFrame.\n",
      "Try using .loc[row_indexer,col_indexer] = value instead\n",
      "\n",
      "See the caveats in the documentation: http://pandas.pydata.org/pandas-docs/stable/indexing.html#indexing-view-versus-copy\n",
      "  self.obj[item] = s\n",
      "/Users/hp/anaconda/envs/python3/lib/python3.5/site-packages/pandas/core/indexing.py:362: SettingWithCopyWarning: \n",
      "A value is trying to be set on a copy of a slice from a DataFrame.\n",
      "Try using .loc[row_indexer,col_indexer] = value instead\n",
      "\n",
      "See the caveats in the documentation: http://pandas.pydata.org/pandas-docs/stable/indexing.html#indexing-view-versus-copy\n",
      "  self.obj[key] = _infer_fill_value(value)\n"
     ]
    },
    {
     "ename": "NameError",
     "evalue": "name 'features_0' is not defined",
     "output_type": "error",
     "traceback": [
      "\u001b[0;31m-------------------------------------------------------------\u001b[0m",
      "\u001b[0;31mNameError\u001b[0m                   Traceback (most recent call last)",
      "\u001b[0;32m<ipython-input-12-823143d81169>\u001b[0m in \u001b[0;36m<module>\u001b[0;34m()\u001b[0m\n\u001b[0;32m----> 1\u001b[0;31m \u001b[0mp231\u001b[0m\u001b[0;34m,\u001b[0m \u001b[0mp222_1\u001b[0m\u001b[0;34m,\u001b[0m \u001b[0mp222_2\u001b[0m\u001b[0;34m,\u001b[0m \u001b[0mp222_3\u001b[0m \u001b[0;34m=\u001b[0m \u001b[0mmodules\u001b[0m\u001b[0;34m.\u001b[0m\u001b[0mbuild_patients\u001b[0m\u001b[0;34m(\u001b[0m\u001b[0;34m)\u001b[0m\u001b[0;34m\u001b[0m\u001b[0m\n\u001b[0m\u001b[1;32m      2\u001b[0m \u001b[0mpat_list\u001b[0m \u001b[0;34m=\u001b[0m \u001b[0;34m[\u001b[0m\u001b[0mp231\u001b[0m\u001b[0;34m,\u001b[0m \u001b[0mp222_1\u001b[0m\u001b[0;34m,\u001b[0m \u001b[0mp222_2\u001b[0m\u001b[0;34m,\u001b[0m \u001b[0mp222_3\u001b[0m\u001b[0;34m]\u001b[0m\u001b[0;34m\u001b[0m\u001b[0m\n\u001b[1;32m      3\u001b[0m \u001b[0;32mfor\u001b[0m \u001b[0mpat\u001b[0m \u001b[0;32min\u001b[0m \u001b[0mpat_list\u001b[0m\u001b[0;34m:\u001b[0m\u001b[0;34m\u001b[0m\u001b[0m\n\u001b[1;32m      4\u001b[0m     \u001b[0mJJ\u001b[0m\u001b[0;34m.\u001b[0m\u001b[0msave_object\u001b[0m\u001b[0;34m(\u001b[0m\u001b[0mpat\u001b[0m\u001b[0;34m,\u001b[0m \u001b[0;34m'../patients/'\u001b[0m \u001b[0;34m+\u001b[0m \u001b[0mpat\u001b[0m\u001b[0;34m.\u001b[0m\u001b[0mid\u001b[0m \u001b[0;34m+\u001b[0m\u001b[0;34m'.p'\u001b[0m\u001b[0;34m)\u001b[0m\u001b[0;34m\u001b[0m\u001b[0m\n",
      "\u001b[0;32m~/GitHub/EEG/src/modules.py\u001b[0m in \u001b[0;36mbuild_patients\u001b[0;34m()\u001b[0m\n\u001b[1;32m     84\u001b[0m \u001b[0;34m\u001b[0m\u001b[0m\n\u001b[1;32m     85\u001b[0m     \u001b[0;32mfor\u001b[0m \u001b[0mpat\u001b[0m \u001b[0;32min\u001b[0m \u001b[0mpat_list\u001b[0m\u001b[0;34m:\u001b[0m\u001b[0;34m\u001b[0m\u001b[0m\n\u001b[0;32m---> 86\u001b[0;31m         \u001b[0mpat\u001b[0m\u001b[0;34m.\u001b[0m\u001b[0madd_features\u001b[0m\u001b[0;34m(\u001b[0m\u001b[0mf\u001b[0m\u001b[0;34m,\u001b[0m \u001b[0mf_s\u001b[0m\u001b[0;34m)\u001b[0m\u001b[0;34m\u001b[0m\u001b[0m\n\u001b[0m\u001b[1;32m     87\u001b[0m     \u001b[0;32mreturn\u001b[0m \u001b[0mp231\u001b[0m\u001b[0;34m,\u001b[0m \u001b[0mp222_1\u001b[0m\u001b[0;34m,\u001b[0m \u001b[0mp222_2\u001b[0m\u001b[0;34m,\u001b[0m \u001b[0mp222_3\u001b[0m\u001b[0;34m\u001b[0m\u001b[0m\n\u001b[1;32m     88\u001b[0m \u001b[0;34m\u001b[0m\u001b[0m\n",
      "\u001b[0;32m~/GitHub/EEG/src/patient.py\u001b[0m in \u001b[0;36madd_features\u001b[0;34m(self, f, f_s)\u001b[0m\n\u001b[1;32m     47\u001b[0m         \u001b[0mfeatures_sti_0\u001b[0m \u001b[0;34m=\u001b[0m \u001b[0mpd\u001b[0m\u001b[0;34m.\u001b[0m\u001b[0mDataFrame\u001b[0m\u001b[0;34m(\u001b[0m\u001b[0mnp\u001b[0m\u001b[0;34m.\u001b[0m\u001b[0marray\u001b[0m\u001b[0;34m(\u001b[0m\u001b[0mf_s\u001b[0m\u001b[0;34m[\u001b[0m\u001b[0mmatlab_sti_features_name\u001b[0m\u001b[0;34m]\u001b[0m\u001b[0;34m)\u001b[0m\u001b[0;34m.\u001b[0m\u001b[0mT\u001b[0m\u001b[0;34m,\u001b[0m \u001b[0mcolumns\u001b[0m \u001b[0;34m=\u001b[0m \u001b[0mcol_names\u001b[0m\u001b[0;34m)\u001b[0m\u001b[0;34m\u001b[0m\u001b[0m\n\u001b[1;32m     48\u001b[0m \u001b[0;34m\u001b[0m\u001b[0m\n\u001b[0;32m---> 49\u001b[0;31m         \u001b[0mfeatures_nsti_1\u001b[0m \u001b[0;34m=\u001b[0m \u001b[0mself\u001b[0m\u001b[0;34m.\u001b[0m\u001b[0madd_features_helper\u001b[0m\u001b[0;34m(\u001b[0m\u001b[0mfeatures_0\u001b[0m\u001b[0;34m,\u001b[0m \u001b[0;32mFalse\u001b[0m\u001b[0;34m)\u001b[0m\u001b[0;34m\u001b[0m\u001b[0m\n\u001b[0m\u001b[1;32m     50\u001b[0m         \u001b[0mfeatures_sti_1\u001b[0m \u001b[0;34m=\u001b[0m \u001b[0mself\u001b[0m\u001b[0;34m.\u001b[0m\u001b[0madd_features_helper\u001b[0m\u001b[0;34m(\u001b[0m\u001b[0mfeatures_sti_0\u001b[0m\u001b[0;34m,\u001b[0m \u001b[0;32mTrue\u001b[0m\u001b[0;34m)\u001b[0m\u001b[0;34m\u001b[0m\u001b[0m\n\u001b[1;32m     51\u001b[0m \u001b[0;34m\u001b[0m\u001b[0m\n",
      "\u001b[0;31mNameError\u001b[0m: name 'features_0' is not defined"
     ]
    }
   ],
   "source": [
    "p231, p222_1, p222_2, p222_3 = modules.build_patients()\n",
    "pat_list = [p231, p222_1, p222_2, p222_3]\n",
    "for pat in pat_list:\n",
    "    JJ.save_object(pat, '../patients/' + pat.id +'.p')"
   ]
  },
  {
   "cell_type": "code",
   "execution_count": 3,
   "metadata": {},
   "outputs": [],
   "source": [
    "col_rs = hp.col_rs\n",
    "col_es = hp.col_es\n",
    "col_le = hp.col_le\n",
    "\n",
    "p231, p222_1, p222_2, p222_3 = pickle.load(open(hp.prepath_pat + \"231.p\", \"rb\" )),pickle.load(open(hp.prepath_pat + \"222_1.p\", \"rb\" )), pickle.load(open(hp.prepath_pat + \"222_2.p\", \"rb\" )), pickle.load(open(hp.prepath_pat + \"222_3.p\", \"rb\" ))\n"
   ]
  },
  {
   "cell_type": "code",
   "execution_count": 4,
   "metadata": {},
   "outputs": [],
   "source": [
    "def parameter_tuning(pat, X_train, X_test, y_train, y_test, classifier, C_range_num = 30, if_save = 0,\n",
    "                     nfold = 10, if_show = 1):\n",
    "    #defs is a dictionary to initiate classifier with the parameters that don't need to be tuned\n",
    "    defs = {}\n",
    "    defs['classifier'] = classifier\n",
    "    \n",
    "    num_instances, num_features = X_train.shape[0], X_train.shape[1]\n",
    "    n_fold = 10\n",
    "\n",
    "    skf = StratifiedKFold(n_splits=n_fold, shuffle=True, random_state=42)\n",
    "    CV = skf.split(np.zeros(len(y_train)), y_train)\n",
    "    \n",
    "\n",
    "    if classifier==1:\n",
    "        clf_name = 'Logistic Regression'\n",
    "        defs['class_weight'] = 'balanced'\n",
    "        defs['max_iter'] = 200\n",
    "        C_range = 10 ** np.random.uniform(-2, 1, size = C_range_num)\n",
    "        tuned_params = dict(penalty=['l1','l2'], C=C_range)\n",
    "    elif classifier == 2: \n",
    "        clf_name = 'SVM'\n",
    "        defs['class_weight'] = 'balanced'\n",
    "        kernel_list = ['rbf']    \n",
    "        gamma_list = [2**i*1/num_features for i in range(1)]\n",
    "        #degree_list = [2,3,4,5]\n",
    "        C_range = 10 ** np.random.uniform(-3, 1, size = C_range_num)\n",
    "        tuned_params = dict(kernel=kernel_list,gamma = gamma_list, C=C_range)\n",
    "\n",
    "    elif classifier==3:\n",
    "        clf_name = 'Gaussian Naive Bayes classifier'\n",
    "        prr = np.ones(2) * (1.0/2)\n",
    "        defs['priors'] = prr\n",
    "        clf_try = JJ.clf_list(defs)\n",
    "        clf_try.fit(X_train, y_train)\n",
    "        JJ.save_object(clf_try, prepath + 'best_estimator_for_' + str(clf_name) + '.p')\n",
    "        return\n",
    "\n",
    "    elif classifier==4:\n",
    "        clf_name = 'Linear Discriminant Analysis'\n",
    "        prr = np.ones(2) * (1.0/2)\n",
    "        defs['solver'] = 'eigen'  # 'svd', 'lsqr', 'eigen'\n",
    "        defs['shrinkage'] = 'auto'\n",
    "        defs['priors'] = prr\n",
    "        clf_try = JJ.clf_list(defs)\n",
    "        clf_try.fit(X_train, y_train)\n",
    "        JJ.save_object(clf_try, prepath + 'best_estimator_for_' + str(clf_name) + '.p')\n",
    "        return\n",
    "    elif classifier == 5:\n",
    "        clf_name = 'decision tree'\n",
    "        mss_list = [5,10,20,40,60]\n",
    "        criterion_list = ['entropy']\n",
    "        max_depth_list = [3,4,5,8,12,18]\n",
    "        clf_name = 'decision tree'\n",
    "        tuned_params = dict(criterion=criterion_list, min_samples_split=mss_list, max_depth = max_depth_list)\n",
    "    elif classifier == 6:\n",
    "        clf_name = 'random forest'\n",
    "        defs['n_estimators'] = 600\n",
    "        mss_list = [20,25,30,40]\n",
    "        criterion_list = ['entropy']\n",
    "        max_depth_list = [12,13,14,15,16]\n",
    "        max_features_list = ['auto']\n",
    "        tuned_params = dict(criterion=criterion_list, min_samples_split=mss_list, max_depth = max_depth_list, max_features = max_features_list)\n",
    "    elif classifier == 7:\n",
    "        clf_name = 'gradient boosting'\n",
    "        defs['n_estimators'] = 2000\n",
    "        max_depth_list, subsample_list, learning_rate_list, min_samples_leaf_list = [1,2,3], [0.1,0.15,0.2, 0.3, 0.4], [0.02, 0.01,0.005], [10,20,30] \n",
    "        #params = {'n_estimators': 1200, 'max_depth': 3, 'subsample': 0.5,\n",
    "        #  'learning_rate': 0.01, 'min_samples_leaf': 10, 'random_state': 3}\n",
    "        tuned_params = dict(max_depth=max_depth_list, subsample = subsample_list,learning_rate = learning_rate_list, min_samples_leaf= min_samples_leaf_list)\n",
    "    \n",
    "        \n",
    "    clf_try = JJ.clf_list(defs)\n",
    "    \n",
    "    clf_grid = GridSearchCV(clf_try,\n",
    "                            param_grid=tuned_params,\n",
    "                            cv=CV,\n",
    "                            scoring = 'roc_auc',\n",
    "                            verbose=1,\n",
    "                           return_train_score = True)\n",
    "    clf_grid.fit(X_train, y_train)\n",
    "    print('Best score: {}'.format(clf_grid.best_score_))\n",
    "    print('Best parameters: {}'.format(clf_grid.best_params_))\n",
    "\n",
    "    clf_best = clf_grid.best_estimator_\n",
    "\n",
    "    y_pred = clf_best.predict(X_test)\n",
    "    df = pd.DataFrame(clf_grid.cv_results_)\n",
    "    if if_show:\n",
    "        JJ.show_result(y_pred, y_test, df, clf_name, if_save = if_save)\n",
    "    \n",
    "    if if_save:\n",
    "        pat.result[classifier] = df\n",
    "        pat.estimator[classifier] = clf_best\n",
    "        pat.score[classifier] = clf_grid.best_score_\n",
    "        pat.params[classifier] = clf_grid.best_params_\n",
    "\n"
   ]
  },
  {
   "cell_type": "code",
   "execution_count": 9,
   "metadata": {
    "scrolled": false
   },
   "outputs": [
    {
     "name": "stdout",
     "output_type": "stream",
     "text": [
      "Total outliers removed: 17\n",
      "Fitting 10 folds for each of 100 candidates, totalling 1000 fits\n",
      "Best score: 0.7601626016260162\n",
      "Best parameters: {'C': 0.6830912227112156, 'gamma': 0.03571428571428571, 'kernel': 'rbf'}\n",
      "Confusion matrix, without normalization\n"
     ]
    },
    {
     "name": "stderr",
     "output_type": "stream",
     "text": [
      "[Parallel(n_jobs=1)]: Done 1000 out of 1000 | elapsed:    2.4s finished\n"
     ]
    },
    {
     "data": {
      "text/html": [
       "<div>\n",
       "<style scoped>\n",
       "    .dataframe tbody tr th:only-of-type {\n",
       "        vertical-align: middle;\n",
       "    }\n",
       "\n",
       "    .dataframe tbody tr th {\n",
       "        vertical-align: top;\n",
       "    }\n",
       "\n",
       "    .dataframe thead th {\n",
       "        text-align: right;\n",
       "    }\n",
       "</style>\n",
       "<table border=\"1\" class=\"dataframe\">\n",
       "  <thead>\n",
       "    <tr style=\"text-align: right;\">\n",
       "      <th></th>\n",
       "      <th>params</th>\n",
       "      <th>mean_test_score</th>\n",
       "    </tr>\n",
       "  </thead>\n",
       "  <tbody>\n",
       "    <tr>\n",
       "      <th>0</th>\n",
       "      <td>{'C': 0.6830912227112156, 'gamma': 0.03571428571428571, 'kernel': 'rbf'}</td>\n",
       "      <td>0.760163</td>\n",
       "    </tr>\n",
       "    <tr>\n",
       "      <th>63</th>\n",
       "      <td>{'C': 0.001931409693784039, 'gamma': 0.03571428571428571, 'kernel': 'rbf'}</td>\n",
       "      <td>0.760163</td>\n",
       "    </tr>\n",
       "    <tr>\n",
       "      <th>73</th>\n",
       "      <td>{'C': 4.19044528548444, 'gamma': 0.03571428571428571, 'kernel': 'rbf'}</td>\n",
       "      <td>0.760163</td>\n",
       "    </tr>\n",
       "    <tr>\n",
       "      <th>72</th>\n",
       "      <td>{'C': 0.48273758069034695, 'gamma': 0.03571428571428571, 'kernel': 'rbf'}</td>\n",
       "      <td>0.760163</td>\n",
       "    </tr>\n",
       "    <tr>\n",
       "      <th>71</th>\n",
       "      <td>{'C': 0.02522656017817823, 'gamma': 0.03571428571428571, 'kernel': 'rbf'}</td>\n",
       "      <td>0.760163</td>\n",
       "    </tr>\n",
       "    <tr>\n",
       "      <th>70</th>\n",
       "      <td>{'C': 0.14425400551149412, 'gamma': 0.03571428571428571, 'kernel': 'rbf'}</td>\n",
       "      <td>0.760163</td>\n",
       "    </tr>\n",
       "    <tr>\n",
       "      <th>69</th>\n",
       "      <td>{'C': 2.0920445103051066, 'gamma': 0.03571428571428571, 'kernel': 'rbf'}</td>\n",
       "      <td>0.760163</td>\n",
       "    </tr>\n",
       "    <tr>\n",
       "      <th>68</th>\n",
       "      <td>{'C': 1.707715054490066, 'gamma': 0.03571428571428571, 'kernel': 'rbf'}</td>\n",
       "      <td>0.760163</td>\n",
       "    </tr>\n",
       "    <tr>\n",
       "      <th>67</th>\n",
       "      <td>{'C': 0.0012062282997626801, 'gamma': 0.03571428571428571, 'kernel': 'rbf'}</td>\n",
       "      <td>0.760163</td>\n",
       "    </tr>\n",
       "    <tr>\n",
       "      <th>66</th>\n",
       "      <td>{'C': 0.34171696111250405, 'gamma': 0.03571428571428571, 'kernel': 'rbf'}</td>\n",
       "      <td>0.760163</td>\n",
       "    </tr>\n",
       "    <tr>\n",
       "      <th>...</th>\n",
       "      <td>...</td>\n",
       "      <td>...</td>\n",
       "    </tr>\n",
       "    <tr>\n",
       "      <th>35</th>\n",
       "      <td>{'C': 0.01962173862852527, 'gamma': 0.03571428571428571, 'kernel': 'rbf'}</td>\n",
       "      <td>0.760163</td>\n",
       "    </tr>\n",
       "    <tr>\n",
       "      <th>34</th>\n",
       "      <td>{'C': 0.003549496279505958, 'gamma': 0.03571428571428571, 'kernel': 'rbf'}</td>\n",
       "      <td>0.760163</td>\n",
       "    </tr>\n",
       "    <tr>\n",
       "      <th>33</th>\n",
       "      <td>{'C': 1.6190955070657944, 'gamma': 0.03571428571428571, 'kernel': 'rbf'}</td>\n",
       "      <td>0.760163</td>\n",
       "    </tr>\n",
       "    <tr>\n",
       "      <th>32</th>\n",
       "      <td>{'C': 0.00902171875790248, 'gamma': 0.03571428571428571, 'kernel': 'rbf'}</td>\n",
       "      <td>0.760163</td>\n",
       "    </tr>\n",
       "    <tr>\n",
       "      <th>31</th>\n",
       "      <td>{'C': 3.1366240749925316, 'gamma': 0.03571428571428571, 'kernel': 'rbf'}</td>\n",
       "      <td>0.760163</td>\n",
       "    </tr>\n",
       "    <tr>\n",
       "      <th>30</th>\n",
       "      <td>{'C': 0.0016574338697408167, 'gamma': 0.03571428571428571, 'kernel': 'rbf'}</td>\n",
       "      <td>0.760163</td>\n",
       "    </tr>\n",
       "    <tr>\n",
       "      <th>29</th>\n",
       "      <td>{'C': 4.068398149843038, 'gamma': 0.03571428571428571, 'kernel': 'rbf'}</td>\n",
       "      <td>0.760163</td>\n",
       "    </tr>\n",
       "    <tr>\n",
       "      <th>28</th>\n",
       "      <td>{'C': 0.8149646687902077, 'gamma': 0.03571428571428571, 'kernel': 'rbf'}</td>\n",
       "      <td>0.760163</td>\n",
       "    </tr>\n",
       "    <tr>\n",
       "      <th>27</th>\n",
       "      <td>{'C': 0.029176638951062046, 'gamma': 0.03571428571428571, 'kernel': 'rbf'}</td>\n",
       "      <td>0.760163</td>\n",
       "    </tr>\n",
       "    <tr>\n",
       "      <th>99</th>\n",
       "      <td>{'C': 0.06751767275667059, 'gamma': 0.03571428571428571, 'kernel': 'rbf'}</td>\n",
       "      <td>0.760163</td>\n",
       "    </tr>\n",
       "  </tbody>\n",
       "</table>\n",
       "<p>100 rows × 2 columns</p>\n",
       "</div>"
      ],
      "text/plain": [
       "                                                                         params  \\\n",
       "0   {'C': 0.6830912227112156, 'gamma': 0.03571428571428571, 'kernel': 'rbf'}      \n",
       "63  {'C': 0.001931409693784039, 'gamma': 0.03571428571428571, 'kernel': 'rbf'}    \n",
       "73  {'C': 4.19044528548444, 'gamma': 0.03571428571428571, 'kernel': 'rbf'}        \n",
       "72  {'C': 0.48273758069034695, 'gamma': 0.03571428571428571, 'kernel': 'rbf'}     \n",
       "71  {'C': 0.02522656017817823, 'gamma': 0.03571428571428571, 'kernel': 'rbf'}     \n",
       "70  {'C': 0.14425400551149412, 'gamma': 0.03571428571428571, 'kernel': 'rbf'}     \n",
       "69  {'C': 2.0920445103051066, 'gamma': 0.03571428571428571, 'kernel': 'rbf'}      \n",
       "68  {'C': 1.707715054490066, 'gamma': 0.03571428571428571, 'kernel': 'rbf'}       \n",
       "67  {'C': 0.0012062282997626801, 'gamma': 0.03571428571428571, 'kernel': 'rbf'}   \n",
       "66  {'C': 0.34171696111250405, 'gamma': 0.03571428571428571, 'kernel': 'rbf'}     \n",
       "..                                                                        ...     \n",
       "35  {'C': 0.01962173862852527, 'gamma': 0.03571428571428571, 'kernel': 'rbf'}     \n",
       "34  {'C': 0.003549496279505958, 'gamma': 0.03571428571428571, 'kernel': 'rbf'}    \n",
       "33  {'C': 1.6190955070657944, 'gamma': 0.03571428571428571, 'kernel': 'rbf'}      \n",
       "32  {'C': 0.00902171875790248, 'gamma': 0.03571428571428571, 'kernel': 'rbf'}     \n",
       "31  {'C': 3.1366240749925316, 'gamma': 0.03571428571428571, 'kernel': 'rbf'}      \n",
       "30  {'C': 0.0016574338697408167, 'gamma': 0.03571428571428571, 'kernel': 'rbf'}   \n",
       "29  {'C': 4.068398149843038, 'gamma': 0.03571428571428571, 'kernel': 'rbf'}       \n",
       "28  {'C': 0.8149646687902077, 'gamma': 0.03571428571428571, 'kernel': 'rbf'}      \n",
       "27  {'C': 0.029176638951062046, 'gamma': 0.03571428571428571, 'kernel': 'rbf'}    \n",
       "99  {'C': 0.06751767275667059, 'gamma': 0.03571428571428571, 'kernel': 'rbf'}     \n",
       "\n",
       "    mean_test_score  \n",
       "0   0.760163         \n",
       "63  0.760163         \n",
       "73  0.760163         \n",
       "72  0.760163         \n",
       "71  0.760163         \n",
       "70  0.760163         \n",
       "69  0.760163         \n",
       "68  0.760163         \n",
       "67  0.760163         \n",
       "66  0.760163         \n",
       "..       ...         \n",
       "35  0.760163         \n",
       "34  0.760163         \n",
       "33  0.760163         \n",
       "32  0.760163         \n",
       "31  0.760163         \n",
       "30  0.760163         \n",
       "29  0.760163         \n",
       "28  0.760163         \n",
       "27  0.760163         \n",
       "99  0.760163         \n",
       "\n",
       "[100 rows x 2 columns]"
      ]
     },
     "metadata": {},
     "output_type": "display_data"
    },
    {
     "data": {
      "image/png": "[encoded data removed]",
      "text/plain": [
       "<Figure size 432x288 with 2 Axes>"
      ]
     },
     "metadata": {},
     "output_type": "display_data"
    }
   ],
   "source": [
    "X_train, X_test, y_train, y_test = modules.get_ml_data(p222_3)\n",
    "parameter_tuning(p222_3,X_train, X_test, y_train, y_test, 2, C_range_num = 100, \n",
    "                     nfold = 10, if_save = 1, if_show = 1)"
   ]
  },
  {
   "cell_type": "code",
   "execution_count": 35,
   "metadata": {
    "collapsed": true
   },
   "outputs": [],
   "source": [
    "def parameter_tuning_all(pat, C_range_num, if_scaler = 1, if_remove_icd = 1, if_save = 1, if_show = 0):\n",
    "    X_train, X_test, y_train, y_test = modules.get_ml_data(pat, if_scaler = if_scaler, if_remove_icd = if_remove_icd)\n",
    "    for classifier_int in range(1,hp.num_classifier + 1):\n",
    "        parameter_tuning(pat, X_train, X_test, y_train, y_test, C_range_num = C_range_num, classifier = classifier_int, if_save = if_save, if_show = if_show)"
   ]
  },
  {
   "cell_type": "code",
   "execution_count": 36,
   "metadata": {
    "collapsed": true
   },
   "outputs": [],
   "source": [
    "import pickle\n",
    "data = pickle.load( open( \"../data/ml_ready_data.p\", \"rb\" ) )\n"
   ]
  },
  {
   "cell_type": "code",
   "execution_count": 48,
   "metadata": {},
   "outputs": [
    {
     "name": "stdout",
     "output_type": "stream",
     "text": [
      "Fitting 10 folds for each of 200 candidates, totalling 2000 fits\n"
     ]
    },
    {
     "name": "stderr",
     "output_type": "stream",
     "text": [
      "[Parallel(n_jobs=1)]: Done 2000 out of 2000 | elapsed:    6.9s finished\n"
     ]
    },
    {
     "name": "stdout",
     "output_type": "stream",
     "text": [
      "Best score: 0.6413193395751535\n",
      "Best parameters: {'penalty': 'l1', 'C': 0.58179164066221267}\n",
      "Fitting 10 folds for each of 100 candidates, totalling 1000 fits\n"
     ]
    },
    {
     "name": "stderr",
     "output_type": "stream",
     "text": [
      "[Parallel(n_jobs=1)]: Done 1000 out of 1000 | elapsed:    7.6s finished\n"
     ]
    },
    {
     "name": "stdout",
     "output_type": "stream",
     "text": [
      "Best score: 0.6078551293667575\n",
      "Best parameters: {'gamma': 0.03571428571428571, 'C': 3.1127916493347731, 'kernel': 'rbf'}\n",
      "Fitting 10 folds for each of 30 candidates, totalling 300 fits\n"
     ]
    },
    {
     "name": "stderr",
     "output_type": "stream",
     "text": [
      "[Parallel(n_jobs=1)]: Done 300 out of 300 | elapsed:    1.9s finished\n"
     ]
    },
    {
     "name": "stdout",
     "output_type": "stream",
     "text": [
      "Best score: 0.5965401523541058\n",
      "Best parameters: {'min_samples_split': 10, 'max_depth': 12, 'criterion': 'entropy'}\n",
      "Fitting 10 folds for each of 20 candidates, totalling 200 fits\n"
     ]
    },
    {
     "name": "stderr",
     "output_type": "stream",
     "text": [
      "[Parallel(n_jobs=1)]: Done 200 out of 200 | elapsed:  3.2min finished\n"
     ]
    },
    {
     "name": "stdout",
     "output_type": "stream",
     "text": [
      "Best score: 0.6536226047853955\n",
      "Best parameters: {'min_samples_split': 25, 'max_depth': 15, 'criterion': 'entropy', 'max_features': 'auto'}\n",
      "Fitting 10 folds for each of 135 candidates, totalling 1350 fits\n"
     ]
    },
    {
     "name": "stderr",
     "output_type": "stream",
     "text": [
      "[Parallel(n_jobs=1)]: Done 1350 out of 1350 | elapsed: 14.9min finished\n"
     ]
    },
    {
     "name": "stdout",
     "output_type": "stream",
     "text": [
      "Best score: 0.6739890600355717\n",
      "Best parameters: {'max_depth': 1, 'subsample': 0.4, 'learning_rate': 0.01, 'min_samples_leaf': 20}\n"
     ]
    }
   ],
   "source": [
    "parameter_tuning_all('222_3', C_range_num = 100, if_scaler = 1, if_remove_icd = 1, if_save = 1)"
   ]
  },
  {
   "cell_type": "code",
   "execution_count": 39,
   "metadata": {},
   "outputs": [
    {
     "name": "stdout",
     "output_type": "stream",
     "text": [
      "0.825\n"
     ]
    }
   ],
   "source": [
    "\n",
    "X_train, X_test, y_train, y_test = JJ.get_ml_data(data, '231', if_scaler = 1, if_remove_icd = 1)\n",
    "#parameter_tuning(X_train, X_test, y_train, y_test, classifier = 1, C_range_num = 100, if_save = 1)\n",
    "JJ.ensemble_model(X_train, y_train, X_test, y_test, patid = '231', if_save = 0)"
   ]
  },
  {
   "cell_type": "code",
   "execution_count": 97,
   "metadata": {},
   "outputs": [
    {
     "data": {
      "text/plain": [
       "1"
      ]
     },
     "execution_count": 97,
     "metadata": {},
     "output_type": "execute_result"
    }
   ],
   "source": [
    "1"
   ]
  },
  {
   "cell_type": "code",
   "execution_count": null,
   "metadata": {
    "collapsed": true
   },
   "outputs": [],
   "source": []
  }
 ],
 "metadata": {
  "kernelspec": {
   "display_name": "Python 3",
   "language": "python",
   "name": "python3"
  },
  "language_info": {
   "codemirror_mode": {
    "name": "ipython",
    "version": 3
   },
   "file_extension": ".py",
   "mimetype": "text/x-python",
   "name": "python",
   "nbconvert_exporter": "python",
   "pygments_lexer": "ipython3",
   "version": "3.5.5"
  }
 },
 "nbformat": 4,
 "nbformat_minor": 2
}
