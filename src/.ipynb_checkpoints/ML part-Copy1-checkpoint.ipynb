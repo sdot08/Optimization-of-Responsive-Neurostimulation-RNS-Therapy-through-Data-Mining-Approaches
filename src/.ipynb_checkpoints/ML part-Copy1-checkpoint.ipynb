{
 "cells": [
  {
   "cell_type": "markdown",
   "metadata": {},
   "source": [
    "## multiple roc, accuracy, try remove icd features, rerun using new features, feature importance using color map, scatter plot "
   ]
  },
  {
   "cell_type": "code",
   "execution_count": 103,
   "metadata": {},
   "outputs": [
    {
     "name": "stdout",
     "output_type": "stream",
     "text": [
      "The autoreload extension is already loaded. To reload it, use:\n",
      "  %reload_ext autoreload\n"
     ]
    }
   ],
   "source": [
    "\n",
    "import pandas as pd\n",
    "import logging\n",
    "import numpy as np\n",
    "import sys\n",
    "import matplotlib.pyplot as plt\n",
    "import time\n",
    "import operator\n",
    "import os\n",
    "from sklearn.cross_validation import train_test_split\n",
    "from random import shuffle\n",
    "from sklearn.base import BaseEstimator, RegressorMixin\n",
    "from scipy.optimize import minimize\n",
    "from sklearn.model_selection import GridSearchCV, PredefinedSplit\n",
    "from sklearn.model_selection import ParameterGrid\n",
    "from sklearn.metrics import mean_squared_error, make_scorer\n",
    "\n",
    "%matplotlib inline\n",
    "\n",
    "#PLOT CONFUSION MATRIX\n",
    "from sklearn.metrics import confusion_matrix\n",
    "import itertools\n",
    "\n",
    "#matrix inverse\n",
    "from numpy.linalg import inv\n",
    "\n",
    "#default size of the graph\n",
    "plt.rcParams['figure.figsize'] = (10.0, 8.0) \n",
    "\n",
    "%load_ext autoreload\n",
    "%autoreload 2\n",
    "\n",
    "pd.set_option('display.max_rows', 20)\n",
    "pd.set_option('display.max_columns', 20)\n",
    "pd.set_option('display.max_colwidth', -1)\n",
    "\n",
    "n_classifier = 7"
   ]
  },
  {
   "cell_type": "code",
   "execution_count": 62,
   "metadata": {
    "collapsed": true
   },
   "outputs": [],
   "source": [
    "from sklearn.model_selection import train_test_split\n",
    "from sklearn import preprocessing\n",
    "def get_ml_data(dat, patid, test_size = 0.2, if_stimulated = 'all', if_itd = True, if_scaler = 0, if_remove_icd = 1):\n",
    "    dat = dat.loc[dat.loc[:,'patid'] == patid]\n",
    "    y = dat.loc[:,'label']\n",
    "    drop_list = ['label', 'region_start_time', 'patid', 'epoch', 'if_stimulated']\n",
    "    if if_remove_icd:\n",
    "        drop_list.append('i12')\n",
    "        drop_list.append('i34')\n",
    "    X = dat.drop(drop_list, axis = 1, inplace = False)\n",
    "    \n",
    "    y=y.astype('int')\n",
    "    X_train, X_test, y_train, y_test = train_test_split(X, y, test_size=test_size, random_state=42, stratify = y)\n",
    "    scaler = preprocessing.StandardScaler().fit(X_train)\n",
    "    if if_scaler:\n",
    "        X_train = scaler.transform(X_train)\n",
    "        X_test = scaler.transform(X_test)    \n",
    "    \n",
    "        \n",
    "    return X_train, X_test, y_train, y_test\n",
    "\n",
    "\n",
    "\n",
    "\n"
   ]
  },
  {
   "cell_type": "code",
   "execution_count": 109,
   "metadata": {
    "collapsed": true
   },
   "outputs": [],
   "source": [
    "def parameter_tuning(X_train, X_test, y_train, y_test, classifier, patid, C_range_num = 30, \n",
    "                     nfold = 10, if_save = 0, if_show = 1):\n",
    "    #defs is a dictionary to initiate classifier with the parameters that don't need to be tuned\n",
    "    defs = {}\n",
    "    defs['classifier'] = classifier\n",
    "    \n",
    "    num_instances, num_features = X_train.shape[0], X_train.shape[1]\n",
    "    n_fold = 10\n",
    "\n",
    "    skf = StratifiedKFold(n_splits=n_fold, shuffle=True, random_state=42)\n",
    "    CV = skf.split(np.zeros(len(y_train)), y_train)\n",
    "    \n",
    "    prepath = '../estimators/'+str(patid) + '/'\n",
    "    if not os.path.exists(prepath):\n",
    "        os.makedirs(prepath)\n",
    "    if classifier==1:\n",
    "        clf_name = 'Logistic Regression'\n",
    "        defs['class_weight'] = 'balanced'\n",
    "        defs['max_iter'] = 200\n",
    "        C_range = 10 ** np.random.uniform(-2, 1, size = C_range_num)\n",
    "        tuned_params = dict(penalty=['l1','l2'], C=C_range)\n",
    "    elif classifier == 2: \n",
    "        clf_name = 'SVM'\n",
    "        defs['class_weight'] = 'balanced'\n",
    "        kernel_list = ['rbf']    \n",
    "        gamma_list = [2**i*1/num_features for i in range(1)]\n",
    "        #degree_list = [2,3,4,5]\n",
    "        C_range = 10 ** np.random.uniform(-3, 1, size = C_range_num)\n",
    "        tuned_params = dict(kernel=kernel_list,gamma = gamma_list, C=C_range)\n",
    "\n",
    "    elif classifier==3:\n",
    "        clf_name = 'Gaussian Naive Bayes classifier'\n",
    "        prr = np.ones(2) * (1.0/2)\n",
    "        defs['priors'] = prr\n",
    "        clf_try = JJ.clf_list(defs)\n",
    "        clf_try.fit(X_train, y_train)\n",
    "        JJ.save_object(clf_try, prepath + 'best_estimator_for_' + str(clf_name) + '.p')\n",
    "        return\n",
    "\n",
    "    elif classifier==4:\n",
    "        clf_name = 'Linear Discriminant Analysis'\n",
    "        prr = np.ones(2) * (1.0/2)\n",
    "        defs['solver'] = 'eigen'  # 'svd', 'lsqr', 'eigen'\n",
    "        defs['shrinkage'] = 'auto'\n",
    "        defs['priors'] = prr\n",
    "        clf_try = JJ.clf_list(defs)\n",
    "        clf_try.fit(X_train, y_train)\n",
    "        JJ.save_object(clf_try, prepath + 'best_estimator_for_' + str(clf_name) + '.p')\n",
    "        return\n",
    "    elif classifier == 5:\n",
    "        clf_name = 'decision tree'\n",
    "        mss_list = [5,10,20,40,60]\n",
    "        criterion_list = ['entropy']\n",
    "        max_depth_list = [3,4,5,8,12,18]\n",
    "        clf_name = 'decision tree'\n",
    "        tuned_params = dict(criterion=criterion_list, min_samples_split=mss_list, max_depth = max_depth_list)\n",
    "    elif classifier == 6:\n",
    "        clf_name = 'random forest'\n",
    "        defs['n_estimators'] = 600\n",
    "        mss_list = [20,25,30,40]\n",
    "        criterion_list = ['entropy']\n",
    "        max_depth_list = [12,13,14,15,16]\n",
    "        max_features_list = ['auto']\n",
    "        tuned_params = dict(criterion=criterion_list, min_samples_split=mss_list, max_depth = max_depth_list, max_features = max_features_list)\n",
    "    elif classifier == 7:\n",
    "        clf_name = 'gradient boosting'\n",
    "        defs['n_estimators'] = 2000\n",
    "        max_depth_list, subsample_list, learning_rate_list, min_samples_leaf_list = [1,2,3], [0.1,0.15,0.2, 0.3, 0.4], [0.02, 0.01,0.005], [10,20,30] \n",
    "        #params = {'n_estimators': 1200, 'max_depth': 3, 'subsample': 0.5,\n",
    "        #  'learning_rate': 0.01, 'min_samples_leaf': 10, 'random_state': 3}\n",
    "        tuned_params = dict(max_depth=max_depth_list, subsample = subsample_list,learning_rate = learning_rate_list, min_samples_leaf= min_samples_leaf_list)\n",
    "    \n",
    "        \n",
    "    clf_try = JJ.clf_list(defs)\n",
    "    \n",
    "    clf_grid = GridSearchCV(clf_try,\n",
    "                            param_grid=tuned_params,\n",
    "                            cv=CV,\n",
    "                            scoring = 'roc_auc',\n",
    "                            verbose=1,\n",
    "                           return_train_score = True)\n",
    "    clf_grid.fit(X_train, y_train)\n",
    "    print('Best score: {}'.format(clf_grid.best_score_))\n",
    "    print('Best parameters: {}'.format(clf_grid.best_params_))\n",
    "\n",
    "    clf_best = clf_grid.best_estimator_\n",
    "\n",
    "    y_pred = clf_best.predict(X_test)\n",
    "    df = pd.DataFrame(clf_grid.cv_results_)\n",
    "    if if_show:\n",
    "        JJ.show_result(y_pred, y_test, df, clf_name, if_save = if_save)\n",
    "        \n",
    "    if if_save:\n",
    "        JJ.save_object(df, prepath + 'result_df_for_' + str(clf_name) + '.p')\n",
    "        JJ.save_object(clf_best, prepath + 'best_estimator_for_' + str(clf_name) + '.p')\n",
    "        JJ.save_object(clf_grid.best_score_, prepath + 'result_df_for_' + str(clf_name) + '.p')\n",
    "        JJ.save_object(clf_grid.best_params_, prepath + 'best_params_for_' + str(clf_name) + '.p')\n",
    "\n",
    "num_classifier = 7\n"
   ]
  },
  {
   "cell_type": "code",
   "execution_count": null,
   "metadata": {
    "collapsed": true
   },
   "outputs": [],
   "source": []
  },
  {
   "cell_type": "code",
   "execution_count": 98,
   "metadata": {},
   "outputs": [],
   "source": [
    "def parameter_tuning_all(patid, C_range_num, if_scaler = 1, if_remove_icd = 1, if_save = 1, if_show = 0):\n",
    "    X_train, X_test, y_train, y_test = get_ml_data(data, patid, if_scaler = if_scaler, if_remove_icd = if_remove_icd)\n",
    "    for classifier_int in range(1,num_classifier + 1):\n",
    "        parameter_tuning(X_train, X_test, y_train, y_test,  patid = patid, C_range_num = C_range_num, classifier = classifier_int, if_save = if_save, if_show = if_show)"
   ]
  },
  {
   "cell_type": "code",
   "execution_count": 95,
   "metadata": {
    "collapsed": true
   },
   "outputs": [],
   "source": [
    "import pickle\n",
    "data = pickle.load( open( \"../data/ml_ready_data.p\", \"rb\" ) )\n",
    "data = JJ.remove_outliers(data)"
   ]
  },
  {
   "cell_type": "code",
   "execution_count": null,
   "metadata": {},
   "outputs": [
    {
     "name": "stdout",
     "output_type": "stream",
     "text": [
      "Fitting 10 folds for each of 200 candidates, totalling 2000 fits\n"
     ]
    },
    {
     "name": "stderr",
     "output_type": "stream",
     "text": [
      "[Parallel(n_jobs=1)]: Done 2000 out of 2000 | elapsed:    9.0s finished\n"
     ]
    },
    {
     "name": "stdout",
     "output_type": "stream",
     "text": [
      "Best score: 0.7142304821615166\n",
      "Best parameters: {'penalty': 'l1', 'C': 0.15154495513965593}\n",
      "Fitting 10 folds for each of 100 candidates, totalling 1000 fits\n"
     ]
    },
    {
     "name": "stderr",
     "output_type": "stream",
     "text": [
      "[Parallel(n_jobs=1)]: Done 1000 out of 1000 | elapsed:   20.0s finished\n"
     ]
    },
    {
     "name": "stdout",
     "output_type": "stream",
     "text": [
      "Best score: 0.6955473204955963\n",
      "Best parameters: {'gamma': 0.03571428571428571, 'C': 0.77240759580029372, 'kernel': 'rbf'}\n",
      "Fitting 10 folds for each of 30 candidates, totalling 300 fits\n"
     ]
    },
    {
     "name": "stderr",
     "output_type": "stream",
     "text": [
      "[Parallel(n_jobs=1)]: Done 300 out of 300 | elapsed:    3.2s finished\n"
     ]
    },
    {
     "name": "stdout",
     "output_type": "stream",
     "text": [
      "Best score: 0.6531783101955516\n",
      "Best parameters: {'criterion': 'entropy', 'max_depth': 4, 'min_samples_split': 40}\n",
      "Fitting 10 folds for each of 20 candidates, totalling 200 fits\n"
     ]
    },
    {
     "name": "stderr",
     "output_type": "stream",
     "text": [
      "[Parallel(n_jobs=1)]: Done 200 out of 200 | elapsed:  4.4min finished\n"
     ]
    },
    {
     "name": "stdout",
     "output_type": "stream",
     "text": [
      "Best score: 0.7008984176742798\n",
      "Best parameters: {'criterion': 'entropy', 'max_depth': 14, 'max_features': 'auto', 'min_samples_split': 30}\n",
      "Fitting 10 folds for each of 135 candidates, totalling 1350 fits\n"
     ]
    }
   ],
   "source": [
    "parameter_tuning_all('222_1' , C_range_num = 100, if_scaler = 1, if_remove_icd = 1, if_save = 1)"
   ]
  },
  {
   "cell_type": "code",
   "execution_count": 108,
   "metadata": {},
   "outputs": [
    {
     "name": "stdout",
     "output_type": "stream",
     "text": [
      "Fitting 10 folds for each of 30 candidates, totalling 300 fits\n",
      "Best score: 0.840588271952234\n",
      "Best parameters: {'gamma': 0.03333333333333333, 'C': 3.6161903232892141, 'kernel': 'rbf'}\n",
      "Confusion matrix, without normalization\n"
     ]
    },
    {
     "name": "stderr",
     "output_type": "stream",
     "text": [
      "[Parallel(n_jobs=1)]: Done 300 out of 300 | elapsed:    8.9s finished\n"
     ]
    },
    {
     "data": {
      "text/html": [
       "<div>\n",
       "<style>\n",
       "    .dataframe thead tr:only-child th {\n",
       "        text-align: right;\n",
       "    }\n",
       "\n",
       "    .dataframe thead th {\n",
       "        text-align: left;\n",
       "    }\n",
       "\n",
       "    .dataframe tbody tr th {\n",
       "        vertical-align: top;\n",
       "    }\n",
       "</style>\n",
       "<table border=\"1\" class=\"dataframe\">\n",
       "  <thead>\n",
       "    <tr style=\"text-align: right;\">\n",
       "      <th></th>\n",
       "      <th>params</th>\n",
       "      <th>mean_test_score</th>\n",
       "    </tr>\n",
       "  </thead>\n",
       "  <tbody>\n",
       "    <tr>\n",
       "      <th>25</th>\n",
       "      <td>{'gamma': 0.03333333333333333, 'C': 3.61619032329, 'kernel': 'rbf'}</td>\n",
       "      <td>0.840588</td>\n",
       "    </tr>\n",
       "    <tr>\n",
       "      <th>8</th>\n",
       "      <td>{'gamma': 0.03333333333333333, 'C': 4.41182655838, 'kernel': 'rbf'}</td>\n",
       "      <td>0.840237</td>\n",
       "    </tr>\n",
       "    <tr>\n",
       "      <th>2</th>\n",
       "      <td>{'gamma': 0.03333333333333333, 'C': 4.32637887499, 'kernel': 'rbf'}</td>\n",
       "      <td>0.840039</td>\n",
       "    </tr>\n",
       "    <tr>\n",
       "      <th>23</th>\n",
       "      <td>{'gamma': 0.03333333333333333, 'C': 4.15550439812, 'kernel': 'rbf'}</td>\n",
       "      <td>0.839854</td>\n",
       "    </tr>\n",
       "    <tr>\n",
       "      <th>16</th>\n",
       "      <td>{'gamma': 0.03333333333333333, 'C': 5.40776390302, 'kernel': 'rbf'}</td>\n",
       "      <td>0.839680</td>\n",
       "    </tr>\n",
       "    <tr>\n",
       "      <th>15</th>\n",
       "      <td>{'gamma': 0.03333333333333333, 'C': 8.12601801563, 'kernel': 'rbf'}</td>\n",
       "      <td>0.837782</td>\n",
       "    </tr>\n",
       "    <tr>\n",
       "      <th>29</th>\n",
       "      <td>{'gamma': 0.03333333333333333, 'C': 2.1164495528, 'kernel': 'rbf'}</td>\n",
       "      <td>0.837355</td>\n",
       "    </tr>\n",
       "    <tr>\n",
       "      <th>28</th>\n",
       "      <td>{'gamma': 0.03333333333333333, 'C': 1.72755929971, 'kernel': 'rbf'}</td>\n",
       "      <td>0.835747</td>\n",
       "    </tr>\n",
       "    <tr>\n",
       "      <th>0</th>\n",
       "      <td>{'gamma': 0.03333333333333333, 'C': 0.93754601004, 'kernel': 'rbf'}</td>\n",
       "      <td>0.829001</td>\n",
       "    </tr>\n",
       "    <tr>\n",
       "      <th>17</th>\n",
       "      <td>{'gamma': 0.03333333333333333, 'C': 0.930934608404, 'kernel': 'rbf'}</td>\n",
       "      <td>0.828996</td>\n",
       "    </tr>\n",
       "    <tr>\n",
       "      <th>...</th>\n",
       "      <td>...</td>\n",
       "      <td>...</td>\n",
       "    </tr>\n",
       "    <tr>\n",
       "      <th>4</th>\n",
       "      <td>{'gamma': 0.03333333333333333, 'C': 0.0476985805209, 'kernel': 'rbf'}</td>\n",
       "      <td>0.777879</td>\n",
       "    </tr>\n",
       "    <tr>\n",
       "      <th>27</th>\n",
       "      <td>{'gamma': 0.03333333333333333, 'C': 0.0320186258793, 'kernel': 'rbf'}</td>\n",
       "      <td>0.776092</td>\n",
       "    </tr>\n",
       "    <tr>\n",
       "      <th>1</th>\n",
       "      <td>{'gamma': 0.03333333333333333, 'C': 0.0170166971989, 'kernel': 'rbf'}</td>\n",
       "      <td>0.774674</td>\n",
       "    </tr>\n",
       "    <tr>\n",
       "      <th>11</th>\n",
       "      <td>{'gamma': 0.03333333333333333, 'C': 0.00190171726169, 'kernel': 'rbf'}</td>\n",
       "      <td>0.774674</td>\n",
       "    </tr>\n",
       "    <tr>\n",
       "      <th>14</th>\n",
       "      <td>{'gamma': 0.03333333333333333, 'C': 0.00373765146266, 'kernel': 'rbf'}</td>\n",
       "      <td>0.774674</td>\n",
       "    </tr>\n",
       "    <tr>\n",
       "      <th>20</th>\n",
       "      <td>{'gamma': 0.03333333333333333, 'C': 0.00812508458017, 'kernel': 'rbf'}</td>\n",
       "      <td>0.774674</td>\n",
       "    </tr>\n",
       "    <tr>\n",
       "      <th>24</th>\n",
       "      <td>{'gamma': 0.03333333333333333, 'C': 0.00288596058205, 'kernel': 'rbf'}</td>\n",
       "      <td>0.774674</td>\n",
       "    </tr>\n",
       "    <tr>\n",
       "      <th>9</th>\n",
       "      <td>{'gamma': 0.03333333333333333, 'C': 0.00263536874051, 'kernel': 'rbf'}</td>\n",
       "      <td>0.774674</td>\n",
       "    </tr>\n",
       "    <tr>\n",
       "      <th>21</th>\n",
       "      <td>{'gamma': 0.03333333333333333, 'C': 0.00323127924492, 'kernel': 'rbf'}</td>\n",
       "      <td>0.774674</td>\n",
       "    </tr>\n",
       "    <tr>\n",
       "      <th>10</th>\n",
       "      <td>{'gamma': 0.03333333333333333, 'C': 0.0238860875924, 'kernel': 'rbf'}</td>\n",
       "      <td>0.774111</td>\n",
       "    </tr>\n",
       "  </tbody>\n",
       "</table>\n",
       "<p>30 rows × 2 columns</p>\n",
       "</div>"
      ],
      "text/plain": [
       "                                                                    params  \\\n",
       "25  {'gamma': 0.03333333333333333, 'C': 3.61619032329, 'kernel': 'rbf'}      \n",
       "8   {'gamma': 0.03333333333333333, 'C': 4.41182655838, 'kernel': 'rbf'}      \n",
       "2   {'gamma': 0.03333333333333333, 'C': 4.32637887499, 'kernel': 'rbf'}      \n",
       "23  {'gamma': 0.03333333333333333, 'C': 4.15550439812, 'kernel': 'rbf'}      \n",
       "16  {'gamma': 0.03333333333333333, 'C': 5.40776390302, 'kernel': 'rbf'}      \n",
       "15  {'gamma': 0.03333333333333333, 'C': 8.12601801563, 'kernel': 'rbf'}      \n",
       "29  {'gamma': 0.03333333333333333, 'C': 2.1164495528, 'kernel': 'rbf'}       \n",
       "28  {'gamma': 0.03333333333333333, 'C': 1.72755929971, 'kernel': 'rbf'}      \n",
       "0   {'gamma': 0.03333333333333333, 'C': 0.93754601004, 'kernel': 'rbf'}      \n",
       "17  {'gamma': 0.03333333333333333, 'C': 0.930934608404, 'kernel': 'rbf'}     \n",
       "..                                                                   ...     \n",
       "4   {'gamma': 0.03333333333333333, 'C': 0.0476985805209, 'kernel': 'rbf'}    \n",
       "27  {'gamma': 0.03333333333333333, 'C': 0.0320186258793, 'kernel': 'rbf'}    \n",
       "1   {'gamma': 0.03333333333333333, 'C': 0.0170166971989, 'kernel': 'rbf'}    \n",
       "11  {'gamma': 0.03333333333333333, 'C': 0.00190171726169, 'kernel': 'rbf'}   \n",
       "14  {'gamma': 0.03333333333333333, 'C': 0.00373765146266, 'kernel': 'rbf'}   \n",
       "20  {'gamma': 0.03333333333333333, 'C': 0.00812508458017, 'kernel': 'rbf'}   \n",
       "24  {'gamma': 0.03333333333333333, 'C': 0.00288596058205, 'kernel': 'rbf'}   \n",
       "9   {'gamma': 0.03333333333333333, 'C': 0.00263536874051, 'kernel': 'rbf'}   \n",
       "21  {'gamma': 0.03333333333333333, 'C': 0.00323127924492, 'kernel': 'rbf'}   \n",
       "10  {'gamma': 0.03333333333333333, 'C': 0.0238860875924, 'kernel': 'rbf'}    \n",
       "\n",
       "    mean_test_score  \n",
       "25  0.840588         \n",
       "8   0.840237         \n",
       "2   0.840039         \n",
       "23  0.839854         \n",
       "16  0.839680         \n",
       "15  0.837782         \n",
       "29  0.837355         \n",
       "28  0.835747         \n",
       "0   0.829001         \n",
       "17  0.828996         \n",
       "..       ...         \n",
       "4   0.777879         \n",
       "27  0.776092         \n",
       "1   0.774674         \n",
       "11  0.774674         \n",
       "14  0.774674         \n",
       "20  0.774674         \n",
       "24  0.774674         \n",
       "9   0.774674         \n",
       "21  0.774674         \n",
       "10  0.774111         \n",
       "\n",
       "[30 rows x 2 columns]"
      ]
     },
     "metadata": {},
     "output_type": "display_data"
    },
    {
     "data": {
      "image/png": "[encoded data removed]",
      "text/plain": [
       "<matplotlib.figure.Figure at 0x1a177649b0>"
      ]
     },
     "metadata": {},
     "output_type": "display_data"
    }
   ],
   "source": [
    "X_train, X_test, y_train, y_test = get_ml_data(data, '231', if_scaler = 1, if_remove_icd = 0)\n",
    "parameter_tuning(X_train, X_test, y_train, y_test, 2, patid = '231', C_range_num = 30, \n",
    "                     nfold = 10, if_save = 0, if_show = 1)"
   ]
  },
  {
   "cell_type": "code",
   "execution_count": 7,
   "metadata": {
    "scrolled": true
   },
   "outputs": [
    {
     "data": {
      "text/plain": [
       "<matplotlib.figure.Figure at 0x1a125b1e80>"
      ]
     },
     "metadata": {},
     "output_type": "display_data"
    },
    {
     "data": {
      "image/png": "[encoded data removed]",
      "text/plain": [
       "<matplotlib.figure.Figure at 0x1a0aa3c470>"
      ]
     },
     "metadata": {},
     "output_type": "display_data"
    }
   ],
   "source": [
    "\n",
    "\n"
   ]
  },
  {
   "cell_type": "code",
   "execution_count": 70,
   "metadata": {},
   "outputs": [
    {
     "name": "stdout",
     "output_type": "stream",
     "text": [
      "0.815476190476\n"
     ]
    }
   ],
   "source": [
    "\n",
    "X_train, X_test, y_train, y_test = get_ml_data(data, '231', if_scaler = 1, if_remove_icd = 1)\n",
    "#parameter_tuning(X_train, X_test, y_train, y_test, classifier = 1, C_range_num = 100, if_save = 1)\n",
    "JJ.ensemble_model(X_train, y_train, X_test, y_test, patid = '231', if_save = 0)"
   ]
  },
  {
   "cell_type": "code",
   "execution_count": 97,
   "metadata": {},
   "outputs": [
    {
     "data": {
      "text/plain": [
       "1"
      ]
     },
     "execution_count": 97,
     "metadata": {},
     "output_type": "execute_result"
    }
   ],
   "source": [
    "1"
   ]
  },
  {
   "cell_type": "code",
   "execution_count": null,
   "metadata": {
    "collapsed": true
   },
   "outputs": [],
   "source": []
  }
 ],
 "metadata": {
  "kernelspec": {
   "display_name": "Python [conda env:anaconda]",
   "language": "python",
   "name": "conda-env-anaconda-py"
  },
  "language_info": {
   "codemirror_mode": {
    "name": "ipython",
    "version": 3
   },
   "file_extension": ".py",
   "mimetype": "text/x-python",
   "name": "python",
   "nbconvert_exporter": "python",
   "pygments_lexer": "ipython3",
   "version": "3.5.3"
  }
 },
 "nbformat": 4,
 "nbformat_minor": 2
}
