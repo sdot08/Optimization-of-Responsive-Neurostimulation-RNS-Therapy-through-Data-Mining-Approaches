{
 "cells": [
  {
   "cell_type": "markdown",
   "metadata": {},
   "source": [
    "1234, pdf"
   ]
  },
  {
   "cell_type": "code",
   "execution_count": 1,
   "metadata": {},
   "outputs": [
    {
     "name": "stderr",
     "output_type": "stream",
     "text": [
      "/Users/hp/anaconda/lib/python3.5/site-packages/sklearn/cross_validation.py:41: DeprecationWarning: This module was deprecated in version 0.18 in favor of the model_selection module into which all the refactored classes and functions are moved. Also note that the interface of the new CV iterators are different from that of this module. This module will be removed in 0.20.\n",
      "  \"This module will be removed in 0.20.\", DeprecationWarning)\n"
     ]
    }
   ],
   "source": [
    "\n",
    "import pandas as pd\n",
    "import logging\n",
    "import numpy as np\n",
    "import sys\n",
    "import matplotlib.pyplot as plt\n",
    "import time\n",
    "import operator\n",
    "import os\n",
    "from sklearn.cross_validation import train_test_split\n",
    "from random import shuffle\n",
    "from sklearn.base import BaseEstimator, RegressorMixin\n",
    "from scipy.optimize import minimize\n",
    "from sklearn.model_selection import GridSearchCV, PredefinedSplit\n",
    "from sklearn.model_selection import ParameterGrid\n",
    "from sklearn.metrics import mean_squared_error, make_scorer\n",
    "from sklearn.model_selection import StratifiedKFold\n",
    "\n",
    "%matplotlib inline\n",
    "\n",
    "#PLOT CONFUSION MATRIX\n",
    "from sklearn.metrics import confusion_matrix\n",
    "import itertools\n",
    "\n",
    "#matrix inverse\n",
    "from numpy.linalg import inv\n",
    "import jj_basic_fn as JJ\n",
    "import prep\n",
    "#default size of the graph\n",
    "plt.rcParams['figure.figsize'] = (10.0, 8.0) \n",
    "\n",
    "%load_ext autoreload\n",
    "%autoreload 2\n",
    "\n",
    "pd.set_option('display.max_rows', 20)\n",
    "pd.set_option('display.max_columns', 20)\n",
    "pd.set_option('display.max_colwidth', -1)\n",
    "\n",
    "n_classifier = 7"
   ]
  },
  {
   "cell_type": "code",
   "execution_count": 50,
   "metadata": {
    "collapsed": true
   },
   "outputs": [],
   "source": [
    "def parameter_tuning(X_train, X_test, y_train, y_test, classifier, patid, C_range_num = 30, \n",
    "                     nfold = 10, if_save = 0, if_show = 1):\n",
    "    #defs is a dictionary to initiate classifier with the parameters that don't need to be tuned\n",
    "    defs = {}\n",
    "    defs['classifier'] = classifier\n",
    "    \n",
    "    num_instances, num_features = X_train.shape[0], X_train.shape[1]\n",
    "    n_fold = 10\n",
    "\n",
    "    skf = StratifiedKFold(n_splits=n_fold, shuffle=True, random_state=42)\n",
    "    CV = skf.split(np.zeros(len(y_train)), y_train)\n",
    "    \n",
    "    prepath = '../estimators/'+str(patid) + '/'\n",
    "    if not os.path.exists(prepath):\n",
    "        os.makedirs(prepath)\n",
    "    if classifier==1:\n",
    "        clf_name = 'Logistic Regression'\n",
    "        defs['class_weight'] = 'balanced'\n",
    "        defs['max_iter'] = 200\n",
    "        C_range = 10 ** np.random.uniform(-2, 1, size = C_range_num)\n",
    "        tuned_params = dict(penalty=['l1','l2'], C=C_range)\n",
    "    elif classifier == 2: \n",
    "        clf_name = 'SVM'\n",
    "        defs['class_weight'] = 'balanced'\n",
    "        kernel_list = ['rbf']    \n",
    "        gamma_list = [2**i*1/num_features for i in range(1)]\n",
    "        #degree_list = [2,3,4,5]\n",
    "        C_range = 10 ** np.random.uniform(-3, 1, size = C_range_num)\n",
    "        tuned_params = dict(kernel=kernel_list,gamma = gamma_list, C=C_range)\n",
    "\n",
    "    elif classifier==3:\n",
    "        clf_name = 'Gaussian Naive Bayes classifier'\n",
    "        prr = np.ones(2) * (1.0/2)\n",
    "        defs['priors'] = prr\n",
    "        clf_try = JJ.clf_list(defs)\n",
    "        clf_try.fit(X_train, y_train)\n",
    "        JJ.save_object(clf_try, prepath + 'best_estimator_for_' + str(clf_name) + '.p')\n",
    "        return\n",
    "\n",
    "    elif classifier==4:\n",
    "        clf_name = 'Linear Discriminant Analysis'\n",
    "        prr = np.ones(2) * (1.0/2)\n",
    "        defs['solver'] = 'eigen'  # 'svd', 'lsqr', 'eigen'\n",
    "        defs['shrinkage'] = 'auto'\n",
    "        defs['priors'] = prr\n",
    "        clf_try = JJ.clf_list(defs)\n",
    "        clf_try.fit(X_train, y_train)\n",
    "        JJ.save_object(clf_try, prepath + 'best_estimator_for_' + str(clf_name) + '.p')\n",
    "        return\n",
    "    elif classifier == 5:\n",
    "        clf_name = 'decision tree'\n",
    "        mss_list = [5,10,20,40,60]\n",
    "        criterion_list = ['entropy']\n",
    "        max_depth_list = [3,4,5,8,12,18]\n",
    "        clf_name = 'decision tree'\n",
    "        tuned_params = dict(criterion=criterion_list, min_samples_split=mss_list, max_depth = max_depth_list)\n",
    "    elif classifier == 6:\n",
    "        clf_name = 'random forest'\n",
    "        defs['n_estimators'] = 600\n",
    "        mss_list = [20,25,30,40]\n",
    "        criterion_list = ['entropy']\n",
    "        max_depth_list = [12,13,14,15,16]\n",
    "        max_features_list = ['auto']\n",
    "        tuned_params = dict(criterion=criterion_list, min_samples_split=mss_list, max_depth = max_depth_list, max_features = max_features_list)\n",
    "    elif classifier == 7:\n",
    "        clf_name = 'gradient boosting'\n",
    "        defs['n_estimators'] = 2000\n",
    "        max_depth_list, subsample_list, learning_rate_list, min_samples_leaf_list = [1,2,3], [0.1,0.15,0.2, 0.3, 0.4], [0.02, 0.01,0.005], [10,20,30] \n",
    "        #params = {'n_estimators': 1200, 'max_depth': 3, 'subsample': 0.5,\n",
    "        #  'learning_rate': 0.01, 'min_samples_leaf': 10, 'random_state': 3}\n",
    "        tuned_params = dict(max_depth=max_depth_list, subsample = subsample_list,learning_rate = learning_rate_list, min_samples_leaf= min_samples_leaf_list)\n",
    "    \n",
    "        \n",
    "    clf_try = JJ.clf_list(defs)\n",
    "    \n",
    "    clf_grid = GridSearchCV(clf_try,\n",
    "                            param_grid=tuned_params,\n",
    "                            cv=CV,\n",
    "                            scoring = 'roc_auc',\n",
    "                            verbose=1,\n",
    "                           return_train_score = True)\n",
    "    clf_grid.fit(X_train, y_train)\n",
    "    print('Best score: {}'.format(clf_grid.best_score_))\n",
    "    print('Best parameters: {}'.format(clf_grid.best_params_))\n",
    "\n",
    "    clf_best = clf_grid.best_estimator_\n",
    "\n",
    "    y_pred = clf_best.predict(X_test)\n",
    "    df = pd.DataFrame(clf_grid.cv_results_)\n",
    "    if if_show:\n",
    "        JJ.show_result(y_pred, y_test, df, clf_name, if_save = if_save)\n",
    "        \n",
    "    if if_save:\n",
    "        JJ.save_object(df, prepath + 'result_df_for_' + str(clf_name) + '.p')\n",
    "        JJ.save_object(clf_best, prepath + 'best_estimator_for_' + str(clf_name) + '.p')\n",
    "        JJ.save_object(clf_grid.best_score_, prepath + 'Best_score_for_' + str(clf_name) + '.p')\n",
    "        JJ.save_object(clf_grid.best_params_, prepath + 'best_params_for_' + str(clf_name) + '.p')\n",
    "\n",
    "num_classifier = 7\n"
   ]
  },
  {
   "cell_type": "code",
   "execution_count": null,
   "metadata": {
    "collapsed": true
   },
   "outputs": [],
   "source": []
  },
  {
   "cell_type": "code",
   "execution_count": 35,
   "metadata": {
    "collapsed": true
   },
   "outputs": [],
   "source": [
    "def parameter_tuning_all(patid, C_range_num, if_scaler = 1, if_remove_icd = 1, if_save = 1, if_show = 0):\n",
    "    X_train, X_test, y_train, y_test = JJ.get_ml_data(data, patid, if_scaler = if_scaler, if_remove_icd = if_remove_icd)\n",
    "    for classifier_int in range(1,num_classifier + 1):\n",
    "        parameter_tuning(X_train, X_test, y_train, y_test,  patid = patid, C_range_num = C_range_num, classifier = classifier_int, if_save = if_save, if_show = if_show)"
   ]
  },
  {
   "cell_type": "code",
   "execution_count": 36,
   "metadata": {
    "collapsed": true
   },
   "outputs": [],
   "source": [
    "import pickle\n",
    "data = pickle.load( open( \"../data/ml_ready_data.p\", \"rb\" ) )\n",
    "data = JJ.remove_outliers(data)"
   ]
  },
  {
   "cell_type": "code",
   "execution_count": 48,
   "metadata": {},
   "outputs": [
    {
     "name": "stdout",
     "output_type": "stream",
     "text": [
      "Fitting 10 folds for each of 200 candidates, totalling 2000 fits\n"
     ]
    },
    {
     "name": "stderr",
     "output_type": "stream",
     "text": [
      "[Parallel(n_jobs=1)]: Done 2000 out of 2000 | elapsed:    6.9s finished\n"
     ]
    },
    {
     "name": "stdout",
     "output_type": "stream",
     "text": [
      "Best score: 0.6413193395751535\n",
      "Best parameters: {'penalty': 'l1', 'C': 0.58179164066221267}\n",
      "Fitting 10 folds for each of 100 candidates, totalling 1000 fits\n"
     ]
    },
    {
     "name": "stderr",
     "output_type": "stream",
     "text": [
      "[Parallel(n_jobs=1)]: Done 1000 out of 1000 | elapsed:    7.6s finished\n"
     ]
    },
    {
     "name": "stdout",
     "output_type": "stream",
     "text": [
      "Best score: 0.6078551293667575\n",
      "Best parameters: {'gamma': 0.03571428571428571, 'C': 3.1127916493347731, 'kernel': 'rbf'}\n",
      "Fitting 10 folds for each of 30 candidates, totalling 300 fits\n"
     ]
    },
    {
     "name": "stderr",
     "output_type": "stream",
     "text": [
      "[Parallel(n_jobs=1)]: Done 300 out of 300 | elapsed:    1.9s finished\n"
     ]
    },
    {
     "name": "stdout",
     "output_type": "stream",
     "text": [
      "Best score: 0.5965401523541058\n",
      "Best parameters: {'min_samples_split': 10, 'max_depth': 12, 'criterion': 'entropy'}\n",
      "Fitting 10 folds for each of 20 candidates, totalling 200 fits\n"
     ]
    },
    {
     "name": "stderr",
     "output_type": "stream",
     "text": [
      "[Parallel(n_jobs=1)]: Done 200 out of 200 | elapsed:  3.2min finished\n"
     ]
    },
    {
     "name": "stdout",
     "output_type": "stream",
     "text": [
      "Best score: 0.6536226047853955\n",
      "Best parameters: {'min_samples_split': 25, 'max_depth': 15, 'criterion': 'entropy', 'max_features': 'auto'}\n",
      "Fitting 10 folds for each of 135 candidates, totalling 1350 fits\n"
     ]
    },
    {
     "name": "stderr",
     "output_type": "stream",
     "text": [
      "[Parallel(n_jobs=1)]: Done 1350 out of 1350 | elapsed: 14.9min finished\n"
     ]
    },
    {
     "name": "stdout",
     "output_type": "stream",
     "text": [
      "Best score: 0.6739890600355717\n",
      "Best parameters: {'max_depth': 1, 'subsample': 0.4, 'learning_rate': 0.01, 'min_samples_leaf': 20}\n"
     ]
    }
   ],
   "source": [
    "parameter_tuning_all('222_3', C_range_num = 100, if_scaler = 1, if_remove_icd = 1, if_save = 1)"
   ]
  },
  {
   "cell_type": "code",
   "execution_count": 45,
   "metadata": {},
   "outputs": [
    {
     "name": "stdout",
     "output_type": "stream",
     "text": [
      "Fitting 10 folds for each of 100 candidates, totalling 1000 fits\n",
      "Best score: 0.8546460678947068\n",
      "Best parameters: {'gamma': 0.03571428571428571, 'C': 2.408823306675036, 'kernel': 'rbf'}\n",
      "Confusion matrix, without normalization\n"
     ]
    },
    {
     "name": "stderr",
     "output_type": "stream",
     "text": [
      "[Parallel(n_jobs=1)]: Done 1000 out of 1000 | elapsed:   26.6s finished\n"
     ]
    },
    {
     "data": {
      "text/html": [
       "<div>\n",
       "<style>\n",
       "    .dataframe thead tr:only-child th {\n",
       "        text-align: right;\n",
       "    }\n",
       "\n",
       "    .dataframe thead th {\n",
       "        text-align: left;\n",
       "    }\n",
       "\n",
       "    .dataframe tbody tr th {\n",
       "        vertical-align: top;\n",
       "    }\n",
       "</style>\n",
       "<table border=\"1\" class=\"dataframe\">\n",
       "  <thead>\n",
       "    <tr style=\"text-align: right;\">\n",
       "      <th></th>\n",
       "      <th>params</th>\n",
       "      <th>mean_test_score</th>\n",
       "    </tr>\n",
       "  </thead>\n",
       "  <tbody>\n",
       "    <tr>\n",
       "      <th>4</th>\n",
       "      <td>{'gamma': 0.03571428571428571, 'C': 2.40882330668, 'kernel': 'rbf'}</td>\n",
       "      <td>0.854646</td>\n",
       "    </tr>\n",
       "    <tr>\n",
       "      <th>87</th>\n",
       "      <td>{'gamma': 0.03571428571428571, 'C': 2.30643329859, 'kernel': 'rbf'}</td>\n",
       "      <td>0.854346</td>\n",
       "    </tr>\n",
       "    <tr>\n",
       "      <th>38</th>\n",
       "      <td>{'gamma': 0.03571428571428571, 'C': 4.29289287441, 'kernel': 'rbf'}</td>\n",
       "      <td>0.854177</td>\n",
       "    </tr>\n",
       "    <tr>\n",
       "      <th>25</th>\n",
       "      <td>{'gamma': 0.03571428571428571, 'C': 2.52781072715, 'kernel': 'rbf'}</td>\n",
       "      <td>0.854136</td>\n",
       "    </tr>\n",
       "    <tr>\n",
       "      <th>64</th>\n",
       "      <td>{'gamma': 0.03571428571428571, 'C': 3.23212991555, 'kernel': 'rbf'}</td>\n",
       "      <td>0.854018</td>\n",
       "    </tr>\n",
       "    <tr>\n",
       "      <th>0</th>\n",
       "      <td>{'gamma': 0.03571428571428571, 'C': 4.00568616378, 'kernel': 'rbf'}</td>\n",
       "      <td>0.853883</td>\n",
       "    </tr>\n",
       "    <tr>\n",
       "      <th>34</th>\n",
       "      <td>{'gamma': 0.03571428571428571, 'C': 3.93180315419, 'kernel': 'rbf'}</td>\n",
       "      <td>0.853785</td>\n",
       "    </tr>\n",
       "    <tr>\n",
       "      <th>72</th>\n",
       "      <td>{'gamma': 0.03571428571428571, 'C': 4.50690523432, 'kernel': 'rbf'}</td>\n",
       "      <td>0.853162</td>\n",
       "    </tr>\n",
       "    <tr>\n",
       "      <th>32</th>\n",
       "      <td>{'gamma': 0.03571428571428571, 'C': 4.57053943406, 'kernel': 'rbf'}</td>\n",
       "      <td>0.852860</td>\n",
       "    </tr>\n",
       "    <tr>\n",
       "      <th>59</th>\n",
       "      <td>{'gamma': 0.03571428571428571, 'C': 5.32436854968, 'kernel': 'rbf'}</td>\n",
       "      <td>0.852727</td>\n",
       "    </tr>\n",
       "    <tr>\n",
       "      <th>...</th>\n",
       "      <td>...</td>\n",
       "      <td>...</td>\n",
       "    </tr>\n",
       "    <tr>\n",
       "      <th>54</th>\n",
       "      <td>{'gamma': 0.03571428571428571, 'C': 0.00171979876124, 'kernel': 'rbf'}</td>\n",
       "      <td>0.788014</td>\n",
       "    </tr>\n",
       "    <tr>\n",
       "      <th>73</th>\n",
       "      <td>{'gamma': 0.03571428571428571, 'C': 0.00630235297281, 'kernel': 'rbf'}</td>\n",
       "      <td>0.788014</td>\n",
       "    </tr>\n",
       "    <tr>\n",
       "      <th>63</th>\n",
       "      <td>{'gamma': 0.03571428571428571, 'C': 0.00361249649391, 'kernel': 'rbf'}</td>\n",
       "      <td>0.788014</td>\n",
       "    </tr>\n",
       "    <tr>\n",
       "      <th>53</th>\n",
       "      <td>{'gamma': 0.03571428571428571, 'C': 0.00334958261347, 'kernel': 'rbf'}</td>\n",
       "      <td>0.788014</td>\n",
       "    </tr>\n",
       "    <tr>\n",
       "      <th>48</th>\n",
       "      <td>{'gamma': 0.03571428571428571, 'C': 0.00386252001872, 'kernel': 'rbf'}</td>\n",
       "      <td>0.788014</td>\n",
       "    </tr>\n",
       "    <tr>\n",
       "      <th>18</th>\n",
       "      <td>{'gamma': 0.03571428571428571, 'C': 0.0119062654291, 'kernel': 'rbf'}</td>\n",
       "      <td>0.788014</td>\n",
       "    </tr>\n",
       "    <tr>\n",
       "      <th>78</th>\n",
       "      <td>{'gamma': 0.03571428571428571, 'C': 0.00544285178375, 'kernel': 'rbf'}</td>\n",
       "      <td>0.788014</td>\n",
       "    </tr>\n",
       "    <tr>\n",
       "      <th>46</th>\n",
       "      <td>{'gamma': 0.03571428571428571, 'C': 0.00159868469838, 'kernel': 'rbf'}</td>\n",
       "      <td>0.788014</td>\n",
       "    </tr>\n",
       "    <tr>\n",
       "      <th>14</th>\n",
       "      <td>{'gamma': 0.03571428571428571, 'C': 0.00113117628102, 'kernel': 'rbf'}</td>\n",
       "      <td>0.788014</td>\n",
       "    </tr>\n",
       "    <tr>\n",
       "      <th>37</th>\n",
       "      <td>{'gamma': 0.03571428571428571, 'C': 0.0440724647928, 'kernel': 'rbf'}</td>\n",
       "      <td>0.787911</td>\n",
       "    </tr>\n",
       "  </tbody>\n",
       "</table>\n",
       "<p>100 rows × 2 columns</p>\n",
       "</div>"
      ],
      "text/plain": [
       "                                                                    params  \\\n",
       "4   {'gamma': 0.03571428571428571, 'C': 2.40882330668, 'kernel': 'rbf'}      \n",
       "87  {'gamma': 0.03571428571428571, 'C': 2.30643329859, 'kernel': 'rbf'}      \n",
       "38  {'gamma': 0.03571428571428571, 'C': 4.29289287441, 'kernel': 'rbf'}      \n",
       "25  {'gamma': 0.03571428571428571, 'C': 2.52781072715, 'kernel': 'rbf'}      \n",
       "64  {'gamma': 0.03571428571428571, 'C': 3.23212991555, 'kernel': 'rbf'}      \n",
       "0   {'gamma': 0.03571428571428571, 'C': 4.00568616378, 'kernel': 'rbf'}      \n",
       "34  {'gamma': 0.03571428571428571, 'C': 3.93180315419, 'kernel': 'rbf'}      \n",
       "72  {'gamma': 0.03571428571428571, 'C': 4.50690523432, 'kernel': 'rbf'}      \n",
       "32  {'gamma': 0.03571428571428571, 'C': 4.57053943406, 'kernel': 'rbf'}      \n",
       "59  {'gamma': 0.03571428571428571, 'C': 5.32436854968, 'kernel': 'rbf'}      \n",
       "..                                                                  ...      \n",
       "54  {'gamma': 0.03571428571428571, 'C': 0.00171979876124, 'kernel': 'rbf'}   \n",
       "73  {'gamma': 0.03571428571428571, 'C': 0.00630235297281, 'kernel': 'rbf'}   \n",
       "63  {'gamma': 0.03571428571428571, 'C': 0.00361249649391, 'kernel': 'rbf'}   \n",
       "53  {'gamma': 0.03571428571428571, 'C': 0.00334958261347, 'kernel': 'rbf'}   \n",
       "48  {'gamma': 0.03571428571428571, 'C': 0.00386252001872, 'kernel': 'rbf'}   \n",
       "18  {'gamma': 0.03571428571428571, 'C': 0.0119062654291, 'kernel': 'rbf'}    \n",
       "78  {'gamma': 0.03571428571428571, 'C': 0.00544285178375, 'kernel': 'rbf'}   \n",
       "46  {'gamma': 0.03571428571428571, 'C': 0.00159868469838, 'kernel': 'rbf'}   \n",
       "14  {'gamma': 0.03571428571428571, 'C': 0.00113117628102, 'kernel': 'rbf'}   \n",
       "37  {'gamma': 0.03571428571428571, 'C': 0.0440724647928, 'kernel': 'rbf'}    \n",
       "\n",
       "    mean_test_score  \n",
       "4   0.854646         \n",
       "87  0.854346         \n",
       "38  0.854177         \n",
       "25  0.854136         \n",
       "64  0.854018         \n",
       "0   0.853883         \n",
       "34  0.853785         \n",
       "72  0.853162         \n",
       "32  0.852860         \n",
       "59  0.852727         \n",
       "..       ...         \n",
       "54  0.788014         \n",
       "73  0.788014         \n",
       "63  0.788014         \n",
       "53  0.788014         \n",
       "48  0.788014         \n",
       "18  0.788014         \n",
       "78  0.788014         \n",
       "46  0.788014         \n",
       "14  0.788014         \n",
       "37  0.787911         \n",
       "\n",
       "[100 rows x 2 columns]"
      ]
     },
     "metadata": {},
     "output_type": "display_data"
    },
    {
     "data": {
      "image/png": "[encoded data removed]",
      "text/plain": [
       "<matplotlib.figure.Figure at 0x11173d6a0>"
      ]
     },
     "metadata": {},
     "output_type": "display_data"
    }
   ],
   "source": [
    "X_train, X_test, y_train, y_test = JJ.get_ml_data(data, '231', if_scaler = 1, if_remove_icd = 1)\n",
    "parameter_tuning(X_train, X_test, y_train, y_test, 2, patid = '231', C_range_num = 100, \n",
    "                     nfold = 10, if_save = 0, if_show = 1)"
   ]
  },
  {
   "cell_type": "code",
   "execution_count": 42,
   "metadata": {},
   "outputs": [
    {
     "data": {
      "text/plain": [
       "(638, 28)"
      ]
     },
     "execution_count": 42,
     "metadata": {},
     "output_type": "execute_result"
    }
   ],
   "source": [
    "X_train.shape"
   ]
  },
  {
   "cell_type": "code",
   "execution_count": 39,
   "metadata": {},
   "outputs": [
    {
     "name": "stdout",
     "output_type": "stream",
     "text": [
      "0.825\n"
     ]
    }
   ],
   "source": [
    "\n",
    "X_train, X_test, y_train, y_test = JJ.get_ml_data(data, '231', if_scaler = 1, if_remove_icd = 1)\n",
    "#parameter_tuning(X_train, X_test, y_train, y_test, classifier = 1, C_range_num = 100, if_save = 1)\n",
    "JJ.ensemble_model(X_train, y_train, X_test, y_test, patid = '231', if_save = 0)"
   ]
  },
  {
   "cell_type": "code",
   "execution_count": 97,
   "metadata": {},
   "outputs": [
    {
     "data": {
      "text/plain": [
       "1"
      ]
     },
     "execution_count": 97,
     "metadata": {},
     "output_type": "execute_result"
    }
   ],
   "source": [
    "1"
   ]
  },
  {
   "cell_type": "code",
   "execution_count": null,
   "metadata": {
    "collapsed": true
   },
   "outputs": [],
   "source": []
  }
 ],
 "metadata": {
  "kernelspec": {
   "display_name": "Python 3",
   "language": "python",
   "name": "python3"
  },
  "language_info": {
   "codemirror_mode": {
    "name": "ipython",
    "version": 3
   },
   "file_extension": ".py",
   "mimetype": "text/x-python",
   "name": "python",
   "nbconvert_exporter": "python",
   "pygments_lexer": "ipython3",
   "version": "3.5.5"
  }
 },
 "nbformat": 4,
 "nbformat_minor": 2
}
